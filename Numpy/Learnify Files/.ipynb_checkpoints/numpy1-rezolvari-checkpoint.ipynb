{
 "cells": [
  {
   "cell_type": "markdown",
   "metadata": {
    "id": "-XWt3nPFhENg"
   },
   "source": [
    "<img height=\"180px\" src=\"https://drive.google.com/uc?export=view&id=141XOz6N4nk8Ru1sAl7vOsAToCLrSFCAX\" alt=\"SDA logo\" align=\"left\" hspace=\"30px\" vspace=\"50px\"/>\n",
    "\n",
    "# Welcome to your next notebook with SDA!\n",
    "\n",
    "During the classes we will mostly use [Google Colaboratory](https://colab.research.google.com/?hl=en) which is a free Jupyter notebook environment that requires no setup and runs entirely in the cloud.\n",
    "\n",
    "However, for bigger projects, especially involving Deep Learning and/or big data reading, it might be a better choice to setup Jupyter Notebook or Jupyter Lab on your computer. Also, it is worth noticing that there is a great number of useful extensions (see [nbextensions](https://jupyter-contrib-nbextensions.readthedocs.io/en/latest/index.html) and [jupyter-labextension](https://jupyterlab.readthedocs.io/en/stable/user/extensions.html)) not available for Colab users."
   ]
  },
  {
   "cell_type": "markdown",
   "metadata": {
    "id": "_pi_0qQeiZ-0"
   },
   "source": [
    "<img src=\"https://drive.google.com/uc?export=view&id=1UO2urRciECzoKE_vHy4RMGfFbkOWOGlW\" alt=\"SDA logo\" align=\"left\" width=\"100px\" hspace=\"10px\" vspace=\"10px\"/>\n",
    "<br>\n",
    "\n",
    "# TASKS"
   ]
  },
  {
   "cell_type": "markdown",
   "metadata": {
    "id": "rzZ3BUSfijKe"
   },
   "source": [
    "<img src=\"https://drive.google.com/uc?export=view&id=141XOz6N4nk8Ru1sAl7vOsAToCLrSFCAX\" alt=\"SDA logo\" width=\"150\" align='right'/>\n",
    "<br>\n",
    "\n",
    "## Linear Algebra"
   ]
  },
  {
   "cell_type": "markdown",
   "metadata": {
    "id": "2SAWPPl8ipUl"
   },
   "source": [
    "### **<font color='#306998'>TASK </font><font color='#ffd33b'>1.1</font>**\n",
    "\n",
    "1. Create a NumPy array with consecutive values from 1 to 9. Display and then invert this array (first element becomes last, etc.).\n",
    "1. Do the same for the numbers between 7 and 19 (including these numbers)."
   ]
  },
  {
   "cell_type": "markdown",
   "metadata": {
    "id": "XVST5X4sRbs3"
   },
   "source": [
    "1a/"
   ]
  },
  {
   "cell_type": "code",
   "execution_count": 1,
   "metadata": {
    "executionInfo": {
     "elapsed": 4,
     "status": "ok",
     "timestamp": 1719742297444,
     "user": {
      "displayName": "Piotr Skoczylas",
      "userId": "06783314259813611768"
     },
     "user_tz": -120
    },
    "id": "UTOeLsGL-sx2"
   },
   "outputs": [],
   "source": [
    "import numpy as np"
   ]
  },
  {
   "cell_type": "code",
   "execution_count": 2,
   "metadata": {
    "colab": {
     "base_uri": "https://localhost:8080/"
    },
    "executionInfo": {
     "elapsed": 3,
     "status": "ok",
     "timestamp": 1719742297444,
     "user": {
      "displayName": "Piotr Skoczylas",
      "userId": "06783314259813611768"
     },
     "user_tz": -120
    },
    "id": "-dSe3mDC-wLM",
    "outputId": "361fa8f6-a5ba-45db-9b18-cf0896b11401"
   },
   "outputs": [
    {
     "data": {
      "text/plain": [
       "array([1, 2, 3, 4, 5, 6, 7, 8, 9])"
      ]
     },
     "execution_count": 2,
     "metadata": {},
     "output_type": "execute_result"
    }
   ],
   "source": [
    "naturals_1_9 = np.array([1, 2, 3, 4, 5, 6, 7, 8, 9])\n",
    "naturals_1_9"
   ]
  },
  {
   "cell_type": "code",
   "execution_count": 3,
   "metadata": {
    "colab": {
     "base_uri": "https://localhost:8080/"
    },
    "executionInfo": {
     "elapsed": 836,
     "status": "ok",
     "timestamp": 1719742303060,
     "user": {
      "displayName": "Piotr Skoczylas",
      "userId": "06783314259813611768"
     },
     "user_tz": -120
    },
    "id": "SJD-LbZXWcoL",
    "outputId": "3348aa71-4873-44a5-d579-b20c2c497e8d"
   },
   "outputs": [
    {
     "data": {
      "text/plain": [
       "array([1, 2, 3, 4, 5, 6, 7, 8, 9])"
      ]
     },
     "execution_count": 3,
     "metadata": {},
     "output_type": "execute_result"
    }
   ],
   "source": [
    "np.arange(1, 10)  # start is inclusive, right exclusive (aka right-open)"
   ]
  },
  {
   "cell_type": "code",
   "execution_count": null,
   "metadata": {
    "colab": {
     "base_uri": "https://localhost:8080/"
    },
    "executionInfo": {
     "elapsed": 3,
     "status": "ok",
     "timestamp": 1711785243217,
     "user": {
      "displayName": "Piotr Skoczylas",
      "userId": "06783314259813611768"
     },
     "user_tz": -60
    },
    "id": "PHU3_Tz6Wd2Z",
    "outputId": "593a5d1d-d7d3-4b4a-d344-e483c33e594a"
   },
   "outputs": [
    {
     "data": {
      "text/plain": [
       "array([1., 2., 3., 4., 5., 6., 7., 8., 9.])"
      ]
     },
     "execution_count": 44,
     "metadata": {},
     "output_type": "execute_result"
    }
   ],
   "source": [
    "np.linspace(1, 9, 9)  # both inclusive"
   ]
  },
  {
   "cell_type": "code",
   "execution_count": null,
   "metadata": {
    "colab": {
     "base_uri": "https://localhost:8080/"
    },
    "executionInfo": {
     "elapsed": 3,
     "status": "ok",
     "timestamp": 1711785246061,
     "user": {
      "displayName": "Piotr Skoczylas",
      "userId": "06783314259813611768"
     },
     "user_tz": -60
    },
    "id": "w7iOI8wdWfGs",
    "outputId": "b1b8763f-d818-4d29-b7e2-c6779c3b50be"
   },
   "outputs": [
    {
     "data": {
      "text/plain": [
       "array([1, 2, 3, 4, 5, 6, 7, 8, 9])"
      ]
     },
     "execution_count": 45,
     "metadata": {},
     "output_type": "execute_result"
    }
   ],
   "source": [
    "np.array([i for i in range(1, 10)])  # with list comprehension and range function"
   ]
  },
  {
   "cell_type": "markdown",
   "metadata": {
    "id": "fLrvYwReRdVd"
   },
   "source": [
    "1b/"
   ]
  },
  {
   "cell_type": "code",
   "execution_count": null,
   "metadata": {
    "colab": {
     "base_uri": "https://localhost:8080/"
    },
    "executionInfo": {
     "elapsed": 301,
     "status": "ok",
     "timestamp": 1711785271775,
     "user": {
      "displayName": "Piotr Skoczylas",
      "userId": "06783314259813611768"
     },
     "user_tz": -60
    },
    "id": "LhXQRKv1-7mj",
    "outputId": "20b1b9ef-aec8-4939-82f0-5130b74399aa"
   },
   "outputs": [
    {
     "data": {
      "text/plain": [
       "array([9, 8, 7, 6, 5, 4, 3, 2, 1])"
      ]
     },
     "execution_count": 46,
     "metadata": {},
     "output_type": "execute_result"
    }
   ],
   "source": [
    "naturals_1_9[::-1]  # start:stop:step"
   ]
  },
  {
   "cell_type": "code",
   "execution_count": null,
   "metadata": {
    "colab": {
     "base_uri": "https://localhost:8080/"
    },
    "executionInfo": {
     "elapsed": 3,
     "status": "ok",
     "timestamp": 1711785279049,
     "user": {
      "displayName": "Piotr Skoczylas",
      "userId": "06783314259813611768"
     },
     "user_tz": -60
    },
    "id": "ox7atXADWmBS",
    "outputId": "d75dee40-cbc9-40fa-9ee4-b0425d967323"
   },
   "outputs": [
    {
     "data": {
      "text/plain": [
       "array([9, 8, 7, 6, 5, 4, 3, 2, 1])"
      ]
     },
     "execution_count": 47,
     "metadata": {},
     "output_type": "execute_result"
    }
   ],
   "source": [
    "# using numpy function flip\n",
    "np.flip(naturals_1_9)"
   ]
  },
  {
   "cell_type": "code",
   "execution_count": null,
   "metadata": {
    "colab": {
     "base_uri": "https://localhost:8080/"
    },
    "executionInfo": {
     "elapsed": 349,
     "status": "ok",
     "timestamp": 1711785285555,
     "user": {
      "displayName": "Piotr Skoczylas",
      "userId": "06783314259813611768"
     },
     "user_tz": -60
    },
    "id": "T1Py4TL4Wny1",
    "outputId": "a89c5a95-c9bf-4f44-fa82-036ad0452ce4"
   },
   "outputs": [
    {
     "data": {
      "text/plain": [
       "array([9, 8, 7, 6, 5, 4, 3, 2, 1])"
      ]
     },
     "execution_count": 48,
     "metadata": {},
     "output_type": "execute_result"
    }
   ],
   "source": [
    "# list comprehension\n",
    "np.array([naturals_1_9[i] for i in range(len(naturals_1_9) - 1, -1, -1)])"
   ]
  },
  {
   "cell_type": "code",
   "execution_count": null,
   "metadata": {
    "colab": {
     "base_uri": "https://localhost:8080/"
    },
    "executionInfo": {
     "elapsed": 4,
     "status": "ok",
     "timestamp": 1711785294504,
     "user": {
      "displayName": "Piotr Skoczylas",
      "userId": "06783314259813611768"
     },
     "user_tz": -60
    },
    "id": "mOKPW1xPWpVf",
    "outputId": "119490e1-06a6-42f6-c060-26241087247d"
   },
   "outputs": [
    {
     "data": {
      "text/plain": [
       "array([9, 8, 7, 6, 5, 4, 3, 2, 1])"
      ]
     },
     "execution_count": 49,
     "metadata": {},
     "output_type": "execute_result"
    }
   ],
   "source": [
    "# with a for loop\n",
    "inverted_naturals = []\n",
    "for i in range(len(naturals_1_9) - 1, -1, -1):\n",
    "    inverted_naturals.append(naturals_1_9[i])\n",
    "np.array(inverted_naturals)"
   ]
  },
  {
   "cell_type": "code",
   "execution_count": null,
   "metadata": {
    "colab": {
     "base_uri": "https://localhost:8080/"
    },
    "executionInfo": {
     "elapsed": 2,
     "status": "ok",
     "timestamp": 1711785298185,
     "user": {
      "displayName": "Piotr Skoczylas",
      "userId": "06783314259813611768"
     },
     "user_tz": -60
    },
    "id": "hcRIx2XUWrfa",
    "outputId": "4c820fdc-f99e-4169-ed3e-e663b0c93bf0"
   },
   "outputs": [
    {
     "data": {
      "text/plain": [
       "array([9, 8, 7, 6, 5, 4, 3, 2, 1])"
      ]
     },
     "execution_count": 50,
     "metadata": {},
     "output_type": "execute_result"
    }
   ],
   "source": [
    "# using Python function sorted\n",
    "np.array(\n",
    "    sorted(naturals_1_9, reverse=True)\n",
    ")"
   ]
  },
  {
   "cell_type": "markdown",
   "metadata": {
    "id": "GRERJ_u6VUKZ"
   },
   "source": [
    "2/"
   ]
  },
  {
   "cell_type": "code",
   "execution_count": null,
   "metadata": {
    "id": "js9RKj52VT4p"
   },
   "outputs": [],
   "source": []
  },
  {
   "cell_type": "markdown",
   "metadata": {
    "id": "AuyyjAy6i0H2"
   },
   "source": [
    "### **<font color='#306998'>TASK </font><font color='#ffd33b'>1.2</font>**\n",
    "\n",
    "1. Create the following NumPy array: `np.array([1, 23, 4, 31, 1, 1, 4, 23, 4, 1])`; and then list all unique (non-repeating) elements.\n",
    "1. Perform similar task with the following NumPy array np.array([44, 1, 7, 12, 7, 44, 4, 7, 12, 1]) and then for each unique value, print out the value itself and the number of its occurences."
   ]
  },
  {
   "cell_type": "markdown",
   "metadata": {
    "id": "-bzd87HaWI2a"
   },
   "source": [
    "1/"
   ]
  },
  {
   "cell_type": "code",
   "execution_count": null,
   "metadata": {
    "colab": {
     "base_uri": "https://localhost:8080/"
    },
    "executionInfo": {
     "elapsed": 3,
     "status": "ok",
     "timestamp": 1711785142289,
     "user": {
      "displayName": "Piotr Skoczylas",
      "userId": "06783314259813611768"
     },
     "user_tz": -60
    },
    "id": "0En1ovQzVdU6",
    "outputId": "72866eb5-9984-4be1-e3c2-1f6146efeefb"
   },
   "outputs": [
    {
     "data": {
      "text/plain": [
       "[1, 23, 4, 31]"
      ]
     },
     "execution_count": 40,
     "metadata": {},
     "output_type": "execute_result"
    }
   ],
   "source": [
    "my_array = np.array([1, 23, 4, 31, 1, 1, 4, 23, 4, 1])\n",
    "\n",
    "unique_elements = []\n",
    "\n",
    "for elem in my_array:\n",
    "    if elem not in unique_elements:\n",
    "        unique_elements.append(elem)\n",
    "\n",
    "unique_elements"
   ]
  },
  {
   "cell_type": "code",
   "execution_count": null,
   "metadata": {
    "colab": {
     "base_uri": "https://localhost:8080/"
    },
    "executionInfo": {
     "elapsed": 2,
     "status": "ok",
     "timestamp": 1711785222179,
     "user": {
      "displayName": "Piotr Skoczylas",
      "userId": "06783314259813611768"
     },
     "user_tz": -60
    },
    "id": "gej2dqsHWW8e",
    "outputId": "e6c5b2a1-3492-452a-e5c7-ce6bff5d7a9e"
   },
   "outputs": [
    {
     "data": {
      "text/plain": [
       "array([ 1,  4, 23, 31])"
      ]
     },
     "execution_count": 41,
     "metadata": {},
     "output_type": "execute_result"
    }
   ],
   "source": [
    "# built-in numpy function\n",
    "np.unique(my_array)"
   ]
  },
  {
   "cell_type": "code",
   "execution_count": null,
   "metadata": {
    "colab": {
     "base_uri": "https://localhost:8080/"
    },
    "executionInfo": {
     "elapsed": 1,
     "status": "ok",
     "timestamp": 1711785354829,
     "user": {
      "displayName": "Piotr Skoczylas",
      "userId": "06783314259813611768"
     },
     "user_tz": -60
    },
    "id": "MMlpuhWbWtud",
    "outputId": "3408838c-2a0d-4f74-980a-cb037add97a6"
   },
   "outputs": [
    {
     "data": {
      "text/plain": [
       "{1, 4, 23, 31}"
      ]
     },
     "execution_count": 52,
     "metadata": {},
     "output_type": "execute_result"
    }
   ],
   "source": [
    "# using set to extract unique elements\n",
    "set(my_array)"
   ]
  },
  {
   "cell_type": "markdown",
   "metadata": {
    "id": "Y7-XV6QXWKpk"
   },
   "source": [
    "2/"
   ]
  },
  {
   "cell_type": "code",
   "execution_count": null,
   "metadata": {
    "id": "GL2GUFogWLu1"
   },
   "outputs": [],
   "source": []
  },
  {
   "cell_type": "markdown",
   "metadata": {
    "id": "P47epBjXXktp"
   },
   "source": [
    "*Tip for the second part of the task:*\n",
    "\n",
    "*If you want to additionally count the occurrences of each of the unique elements then you can:*\n",
    "\n",
    "*   use `np.unique()` function with `return_count=True`\n",
    "*   use `from collections import Counter`, read more https://docs.python.org/3/library/collections.html#collections.Counter\n",
    "*   use a dict with a for loop to `+1` each time an element shows up\n"
   ]
  },
  {
   "cell_type": "code",
   "execution_count": null,
   "metadata": {
    "id": "SqZVP5t0Yi52"
   },
   "outputs": [],
   "source": []
  },
  {
   "cell_type": "markdown",
   "metadata": {
    "id": "eaH_HXM0i4VN"
   },
   "source": [
    "### **<font color='#306998'>TASK </font><font color='#ffd33b'>1.3</font>**\n",
    "\n",
    "1. Create a 3x3 matrix (by using `reshape` method) containign values ranging from 2 to 10 (inclusively).\n",
    "1. Next, construct a 2x5 matrix filled with consecutive integers beginning at 35 and concluding at 44.\n",
    "  * Explore additional configurations that this matrix can have (different shapes).\n"
   ]
  },
  {
   "cell_type": "markdown",
   "metadata": {
    "id": "bR3raP9bZ2uc"
   },
   "source": [
    "1/"
   ]
  },
  {
   "cell_type": "code",
   "execution_count": null,
   "metadata": {
    "colab": {
     "base_uri": "https://localhost:8080/"
    },
    "executionInfo": {
     "elapsed": 304,
     "status": "ok",
     "timestamp": 1711785841524,
     "user": {
      "displayName": "Piotr Skoczylas",
      "userId": "06783314259813611768"
     },
     "user_tz": -60
    },
    "id": "vrpg6M7ZYj0B",
    "outputId": "7c011ddf-c94c-4e46-95f0-8d674a298d5a"
   },
   "outputs": [
    {
     "data": {
      "text/plain": [
       "array([[ 2,  3,  4],\n",
       "       [ 5,  6,  7],\n",
       "       [ 8,  9, 10]])"
      ]
     },
     "execution_count": 55,
     "metadata": {},
     "output_type": "execute_result"
    }
   ],
   "source": [
    "np.array([[2, 3, 4], [5, 6, 7], [8, 9, 10]])"
   ]
  },
  {
   "cell_type": "code",
   "execution_count": null,
   "metadata": {
    "colab": {
     "base_uri": "https://localhost:8080/"
    },
    "executionInfo": {
     "elapsed": 297,
     "status": "ok",
     "timestamp": 1711785886044,
     "user": {
      "displayName": "Piotr Skoczylas",
      "userId": "06783314259813611768"
     },
     "user_tz": -60
    },
    "id": "f5Bk47v4YxMC",
    "outputId": "34bb39b6-29f4-4f51-a13c-bb357b5c61ad"
   },
   "outputs": [
    {
     "data": {
      "text/plain": [
       "array([[ 2,  3,  4],\n",
       "       [ 5,  6,  7],\n",
       "       [ 8,  9, 10]])"
      ]
     },
     "execution_count": 56,
     "metadata": {},
     "output_type": "execute_result"
    }
   ],
   "source": [
    "np.array([\n",
    "    [2, 3, 4],\n",
    "    [5, 6, 7],\n",
    "    [8, 9, 10]\n",
    "])"
   ]
  },
  {
   "cell_type": "code",
   "execution_count": null,
   "metadata": {
    "colab": {
     "base_uri": "https://localhost:8080/"
    },
    "executionInfo": {
     "elapsed": 2,
     "status": "ok",
     "timestamp": 1711785908865,
     "user": {
      "displayName": "Piotr Skoczylas",
      "userId": "06783314259813611768"
     },
     "user_tz": -60
    },
    "id": "YnaL8QA1Y7_Q",
    "outputId": "21051fd4-f4f0-40ca-f89a-eed174090b03"
   },
   "outputs": [
    {
     "data": {
      "text/plain": [
       "array([[ 2,  3,  4],\n",
       "       [ 5,  6,  7],\n",
       "       [ 8,  9, 10]])"
      ]
     },
     "execution_count": 59,
     "metadata": {},
     "output_type": "execute_result"
    }
   ],
   "source": [
    "np.arange(2, 11).reshape(3, 3)  # 3 rows, 3 columns"
   ]
  },
  {
   "cell_type": "code",
   "execution_count": null,
   "metadata": {
    "colab": {
     "base_uri": "https://localhost:8080/"
    },
    "executionInfo": {
     "elapsed": 3,
     "status": "ok",
     "timestamp": 1711785948024,
     "user": {
      "displayName": "Piotr Skoczylas",
      "userId": "06783314259813611768"
     },
     "user_tz": -60
    },
    "id": "gQwSyX1hZFl-",
    "outputId": "a33e85b1-eb5c-4a87-e9ac-6cb3f499ff90"
   },
   "outputs": [
    {
     "data": {
      "text/plain": [
       "array([[ 2,  3,  4],\n",
       "       [ 5,  6,  7],\n",
       "       [ 8,  9, 10]])"
      ]
     },
     "execution_count": 63,
     "metadata": {},
     "output_type": "execute_result"
    }
   ],
   "source": [
    "np.arange(2, 11).reshape(3, -1)  # 3 rows, automatically count the number of columns"
   ]
  },
  {
   "cell_type": "code",
   "execution_count": null,
   "metadata": {
    "colab": {
     "base_uri": "https://localhost:8080/"
    },
    "executionInfo": {
     "elapsed": 2,
     "status": "ok",
     "timestamp": 1711786031947,
     "user": {
      "displayName": "Piotr Skoczylas",
      "userId": "06783314259813611768"
     },
     "user_tz": -60
    },
    "id": "LtQqHG5sZcKu",
    "outputId": "301f27d1-551a-4d7d-c82a-2f9dc68383d7"
   },
   "outputs": [
    {
     "data": {
      "text/plain": [
       "array([[ 2,  3,  4],\n",
       "       [ 5,  6,  7],\n",
       "       [ 8,  9, 10]])"
      ]
     },
     "execution_count": 64,
     "metadata": {},
     "output_type": "execute_result"
    }
   ],
   "source": [
    "np.arange(2, 11).reshape(-1, 3)  # 3 columns, automatically count the number of rows"
   ]
  },
  {
   "cell_type": "markdown",
   "metadata": {
    "id": "bfkDdto6Z4K3"
   },
   "source": [
    "2/"
   ]
  },
  {
   "cell_type": "code",
   "execution_count": null,
   "metadata": {
    "id": "1VB04iZXZ8sy"
   },
   "outputs": [],
   "source": []
  },
  {
   "cell_type": "markdown",
   "metadata": {
    "id": "Loa3gsQti_5q"
   },
   "source": [
    "### **<font color='#306998'>TASK </font><font color='#ffd33b'>1.4</font>**\n",
    "\n",
    "1. Create an array with six random integers between 10 and 30.\n",
    "1. Create an array with eight random integers between 102 and 159.\n",
    "1. Create an array with ten random real values between 0 and 7. (optional)"
   ]
  },
  {
   "cell_type": "markdown",
   "metadata": {
    "id": "YKndmlZ8cySs"
   },
   "source": [
    "1/ See Appendix for more information"
   ]
  },
  {
   "cell_type": "code",
   "execution_count": null,
   "metadata": {
    "colab": {
     "base_uri": "https://localhost:8080/"
    },
    "executionInfo": {
     "elapsed": 507,
     "status": "ok",
     "timestamp": 1711786710404,
     "user": {
      "displayName": "Piotr Skoczylas",
      "userId": "06783314259813611768"
     },
     "user_tz": -60
    },
    "id": "kOEdNEfnbXzI",
    "outputId": "dd0ad8e7-d0fd-4828-e4e3-108158aa3134"
   },
   "outputs": [
    {
     "data": {
      "text/plain": [
       "array([10, 13, 21, 24, 21, 25])"
      ]
     },
     "execution_count": 69,
     "metadata": {},
     "output_type": "execute_result"
    }
   ],
   "source": [
    "np.random.randint(10, 31, size=6)"
   ]
  },
  {
   "cell_type": "code",
   "execution_count": null,
   "metadata": {
    "colab": {
     "base_uri": "https://localhost:8080/"
    },
    "executionInfo": {
     "elapsed": 328,
     "status": "ok",
     "timestamp": 1711786771041,
     "user": {
      "displayName": "Piotr Skoczylas",
      "userId": "06783314259813611768"
     },
     "user_tz": -60
    },
    "id": "JyRIb6xucFAg",
    "outputId": "11ceab0d-1847-468e-b4e4-4fc97bf0b5ac"
   },
   "outputs": [
    {
     "data": {
      "text/plain": [
       "array([10, 30, 21, 17, 13, 11])"
      ]
     },
     "execution_count": 70,
     "metadata": {},
     "output_type": "execute_result"
    }
   ],
   "source": [
    "np.random.choice(\n",
    "    np.arange(10, 31),  # values to choose from\n",
    "    size=6,  # number of values to choose\n",
    "    replace=True  # non-unique elements, possible repetitions\n",
    ")"
   ]
  },
  {
   "cell_type": "markdown",
   "metadata": {
    "id": "BENmehw_czTv"
   },
   "source": [
    "2/"
   ]
  },
  {
   "cell_type": "code",
   "execution_count": null,
   "metadata": {
    "id": "b9itFiqDcUfJ"
   },
   "outputs": [],
   "source": []
  },
  {
   "cell_type": "markdown",
   "metadata": {
    "id": "myGAohGTklB0"
   },
   "source": [
    "### **<font color='#306998'>TASK </font><font color='#ffd33b'>1.5</font>**\n",
    "\n",
    "1. Use the following code to define 2D array, ie. matrix, and then determine its dimension and number of elements.\n",
    "1. Perform the same operations using matrices from 1.3.\n",
    "\n",
    "```\n",
    "A = np.array([[1, 2, 3, 4], [5, 6, -7, 1]])\n",
    "```"
   ]
  },
  {
   "cell_type": "markdown",
   "metadata": {
    "id": "pgNnWYaqdr5O"
   },
   "source": [
    "1/"
   ]
  },
  {
   "cell_type": "code",
   "execution_count": null,
   "metadata": {
    "id": "j7g9p9Woc9c4"
   },
   "outputs": [],
   "source": [
    "A = np.array([[1, 2, 3, 4], [5, 6, -7, 1]])"
   ]
  },
  {
   "cell_type": "code",
   "execution_count": null,
   "metadata": {
    "colab": {
     "base_uri": "https://localhost:8080/"
    },
    "executionInfo": {
     "elapsed": 2,
     "status": "ok",
     "timestamp": 1711787047548,
     "user": {
      "displayName": "Piotr Skoczylas",
      "userId": "06783314259813611768"
     },
     "user_tz": -60
    },
    "id": "9ixCMoTDc_NV",
    "outputId": "34355b67-558d-4128-9c82-fb4ee9e18628"
   },
   "outputs": [
    {
     "data": {
      "text/plain": [
       "(2, 4)"
      ]
     },
     "execution_count": 77,
     "metadata": {},
     "output_type": "execute_result"
    }
   ],
   "source": [
    "dimensions = A.shape\n",
    "dimensions"
   ]
  },
  {
   "cell_type": "code",
   "execution_count": null,
   "metadata": {
    "id": "n1OcBvujdX1m"
   },
   "outputs": [],
   "source": [
    "rows, columns = dimensions"
   ]
  },
  {
   "cell_type": "code",
   "execution_count": null,
   "metadata": {
    "colab": {
     "base_uri": "https://localhost:8080/"
    },
    "executionInfo": {
     "elapsed": 4,
     "status": "ok",
     "timestamp": 1711787076520,
     "user": {
      "displayName": "Piotr Skoczylas",
      "userId": "06783314259813611768"
     },
     "user_tz": -60
    },
    "id": "IMnWU1PddCLD",
    "outputId": "8de0b7fd-4bd0-49d3-f525-0b6dea4867ec"
   },
   "outputs": [
    {
     "data": {
      "text/plain": [
       "8"
      ]
     },
     "execution_count": 79,
     "metadata": {},
     "output_type": "execute_result"
    }
   ],
   "source": [
    "A.size"
   ]
  },
  {
   "cell_type": "markdown",
   "metadata": {
    "id": "TQ0NN9Epdspi"
   },
   "source": [
    "2/"
   ]
  },
  {
   "cell_type": "code",
   "execution_count": null,
   "metadata": {
    "id": "B4F4qwsvdgBt"
   },
   "outputs": [],
   "source": []
  },
  {
   "cell_type": "markdown",
   "metadata": {
    "id": "JK8m2RO0jGvd"
   },
   "source": [
    "### **<font color='#306998'>TASK </font><font color='#ffd33b'>1.6</font>**\n",
    "\n",
    "1/ From the array of values: `[23, 45, 112, 150, 43, 254, 95, 8]` filter for those that are greater than 100."
   ]
  },
  {
   "cell_type": "code",
   "execution_count": null,
   "metadata": {
    "id": "3mgdIqoedt1O"
   },
   "outputs": [],
   "source": [
    "array = np.array([23, 45, 112, 150, 43, 254, 95, 8])"
   ]
  },
  {
   "cell_type": "code",
   "execution_count": null,
   "metadata": {
    "colab": {
     "base_uri": "https://localhost:8080/"
    },
    "executionInfo": {
     "elapsed": 3,
     "status": "ok",
     "timestamp": 1711787167114,
     "user": {
      "displayName": "Piotr Skoczylas",
      "userId": "06783314259813611768"
     },
     "user_tz": -60
    },
    "id": "uvR4xnaxdzTn",
    "outputId": "7dce68ee-48e4-4931-e5e8-3b5b3ec9fe48"
   },
   "outputs": [
    {
     "data": {
      "text/plain": [
       "array([False, False,  True,  True, False,  True, False, False])"
      ]
     },
     "execution_count": 81,
     "metadata": {},
     "output_type": "execute_result"
    }
   ],
   "source": [
    "array > 100  # boolean mask"
   ]
  },
  {
   "cell_type": "code",
   "execution_count": null,
   "metadata": {
    "colab": {
     "base_uri": "https://localhost:8080/"
    },
    "executionInfo": {
     "elapsed": 417,
     "status": "ok",
     "timestamp": 1711787190051,
     "user": {
      "displayName": "Piotr Skoczylas",
      "userId": "06783314259813611768"
     },
     "user_tz": -60
    },
    "id": "Bdsm1iw6d08X",
    "outputId": "3ac2aac0-ea06-4d91-9281-8c4ff442d233"
   },
   "outputs": [
    {
     "data": {
      "text/plain": [
       "array([112, 150, 254])"
      ]
     },
     "execution_count": 83,
     "metadata": {},
     "output_type": "execute_result"
    }
   ],
   "source": [
    "array[array > 100]  # indexing"
   ]
  },
  {
   "cell_type": "code",
   "execution_count": null,
   "metadata": {
    "colab": {
     "base_uri": "https://localhost:8080/"
    },
    "executionInfo": {
     "elapsed": 4,
     "status": "ok",
     "timestamp": 1711787317326,
     "user": {
      "displayName": "Piotr Skoczylas",
      "userId": "06783314259813611768"
     },
     "user_tz": -60
    },
    "id": "VUfKF8Q7eNqI",
    "outputId": "00ca548f-1f77-4e7a-ee1d-272ebfe09b20"
   },
   "outputs": [
    {
     "data": {
      "text/plain": [
       "[112, 150, 254]"
      ]
     },
     "execution_count": 84,
     "metadata": {},
     "output_type": "execute_result"
    }
   ],
   "source": [
    "# less efficient\n",
    "array_above_100 = []\n",
    "\n",
    "for i in array:\n",
    "    if i > 100:\n",
    "        array_above_100.append(i)\n",
    "\n",
    "array_above_100"
   ]
  },
  {
   "cell_type": "code",
   "execution_count": null,
   "metadata": {
    "colab": {
     "base_uri": "https://localhost:8080/"
    },
    "executionInfo": {
     "elapsed": 2,
     "status": "ok",
     "timestamp": 1711787333946,
     "user": {
      "displayName": "Piotr Skoczylas",
      "userId": "06783314259813611768"
     },
     "user_tz": -60
    },
    "id": "2b4hDFN2eZkg",
    "outputId": "de335032-6a32-4f15-dc49-9b67ce307e80"
   },
   "outputs": [
    {
     "data": {
      "text/plain": [
       "[112, 150, 254]"
      ]
     },
     "execution_count": 86,
     "metadata": {},
     "output_type": "execute_result"
    }
   ],
   "source": [
    "[i for i in array if i > 100]"
   ]
  },
  {
   "cell_type": "code",
   "execution_count": null,
   "metadata": {
    "colab": {
     "base_uri": "https://localhost:8080/"
    },
    "executionInfo": {
     "elapsed": 409,
     "status": "ok",
     "timestamp": 1711787483406,
     "user": {
      "displayName": "Piotr Skoczylas",
      "userId": "06783314259813611768"
     },
     "user_tz": -60
    },
    "id": "qFB3XdB9e-lm",
    "outputId": "71f1100f-9d3c-4cea-ee23-a011265e00bf"
   },
   "outputs": [
    {
     "data": {
      "text/plain": [
       "array([2, 3, 5])"
      ]
     },
     "execution_count": 88,
     "metadata": {},
     "output_type": "execute_result"
    }
   ],
   "source": [
    "# useful if you need a list of indices\n",
    "np.where(array > 100)[0]"
   ]
  },
  {
   "cell_type": "markdown",
   "metadata": {
    "id": "bVC-EQoId986"
   },
   "source": [
    "2/ From the array `[10, 21, 32, 43, 54, 65, 76, 87]`, filter for those values that are odd."
   ]
  },
  {
   "cell_type": "code",
   "execution_count": null,
   "metadata": {
    "id": "9PuAYopAd3IC"
   },
   "outputs": [],
   "source": []
  },
  {
   "cell_type": "markdown",
   "metadata": {
    "id": "FquByg7fjLiz"
   },
   "source": [
    "### **<font color='#306998'>TASK </font><font color='#ffd33b'>1.7</font>**\n",
    "\n",
    "Create the 4x4 matrix below, then:\n",
    "* display the item from the second row and the third column,\n",
    "\n",
    "$$\n",
    "A=\n",
    "\\begin{bmatrix}\n",
    "1 & 2 & 3 & 4 \\\\\n",
    "5 & 6 & 7 & 8 \\\\\n",
    "9 & 10 & 11 & 12 \\\\\n",
    "13 & 14 & 15 & 16\n",
    "\\end{bmatrix}\n",
    "$$"
   ]
  },
  {
   "cell_type": "code",
   "execution_count": null,
   "metadata": {
    "id": "f8zQR07WfMwp"
   },
   "outputs": [],
   "source": []
  },
  {
   "cell_type": "markdown",
   "metadata": {
    "id": "JzpVJoKJkwKE"
   },
   "source": [
    "### **<font color='#306998'>TASK </font><font color='#ffd33b'>1.8</font>**\n",
    "\n",
    "Print out all natural numbers less than 100 that are divisible by 11. Try not to use any iteration over loop."
   ]
  },
  {
   "cell_type": "code",
   "execution_count": null,
   "metadata": {
    "id": "dQLSvtm4f2bE"
   },
   "outputs": [],
   "source": []
  },
  {
   "cell_type": "markdown",
   "metadata": {
    "id": "haHtEV39xWnC"
   },
   "source": [
    "### **<font color='#306998'>TASK </font><font color='#ffd33b'>1.9</font>**\n",
    "\n",
    "Create a vector consisting of consecutive natural numbers: `6, 7, 8, ..., 35`. Change its shape in several ways."
   ]
  },
  {
   "cell_type": "code",
   "execution_count": null,
   "metadata": {
    "id": "v6S_0X0Hf4PD"
   },
   "outputs": [],
   "source": []
  },
  {
   "cell_type": "markdown",
   "metadata": {
    "id": "OcPbqfhY5JOH"
   },
   "source": [
    "### **<font color='#306998'>TASK </font><font color='#ffd33b'>1.10</font>**\n",
    "\n",
    "Using `np.reshape()` method, create a `3x3` matrix with all integers from 51 to 59."
   ]
  },
  {
   "cell_type": "code",
   "execution_count": null,
   "metadata": {
    "id": "VWQROsb4gybL"
   },
   "outputs": [],
   "source": []
  },
  {
   "cell_type": "markdown",
   "metadata": {
    "id": "miJxoOkZ7c5y"
   },
   "source": [
    "<img src=\"https://drive.google.com/uc?export=view&id=141XOz6N4nk8Ru1sAl7vOsAToCLrSFCAX\" alt=\"SDA logo\" width=\"150\" align='right'/>\n",
    "<br>\n",
    "\n",
    "## Appendix: random numbers generators\n",
    "\n",
    "1. Randomly generated number(s) from normal (Gauss) distribution.\n",
    "```python\n",
    "np.random.normal()\n",
    "np.random.normal(size=6)\n",
    "```\n",
    "1. Randomly selected numbers from the uniform system.\n",
    "```python\n",
    "np.random.uniform(size=6)\n",
    "```\n",
    "1. Randomly selected number from a specific range.\n",
    "```python\n",
    "np.random.randint(3, 30, size=6)\n",
    "```\n",
    "1. Randomly selected floating-point number\n",
    "```python\n",
    "np.random.random()\n",
    "```"
   ]
  }
 ],
 "metadata": {
  "colab": {
   "provenance": []
  },
  "kernelspec": {
   "display_name": "Python 3 (ipykernel)",
   "language": "python",
   "name": "python3"
  },
  "language_info": {
   "codemirror_mode": {
    "name": "ipython",
    "version": 3
   },
   "file_extension": ".py",
   "mimetype": "text/x-python",
   "name": "python",
   "nbconvert_exporter": "python",
   "pygments_lexer": "ipython3",
   "version": "3.12.10"
  }
 },
 "nbformat": 4,
 "nbformat_minor": 4
}
