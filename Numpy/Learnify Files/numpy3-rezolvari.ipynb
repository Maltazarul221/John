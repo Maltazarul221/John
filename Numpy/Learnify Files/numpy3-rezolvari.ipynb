{
 "cells": [
  {
   "cell_type": "markdown",
   "metadata": {
    "id": "-XWt3nPFhENg"
   },
   "source": [
    "<img height=\"180px\" src=\"https://drive.google.com/uc?export=view&id=141XOz6N4nk8Ru1sAl7vOsAToCLrSFCAX\" alt=\"SDA logo\" align=\"left\" hspace=\"30px\" vspace=\"50px\"/>\n",
    "\n",
    "# Welcome to your next notebook with SDA!\n",
    "\n",
    "During the classes we will mostly use [Google Colaboratory](https://colab.research.google.com/?hl=en) which is a free Jupyter notebook environment that requires no setup and runs entirely in the cloud.\n",
    "\n",
    "However, for bigger projects, especially involving Deep Learning and/or big data reading, it might be a better choice to setup Jupyter Notebook or Jupyter Lab on your computer. Also, it is worth noticing that there is a great number of useful extensions (see [nbextensions](https://jupyter-contrib-nbextensions.readthedocs.io/en/latest/index.html) and [jupyter-labextension](https://jupyterlab.readthedocs.io/en/stable/user/extensions.html)) not available for Colab users."
   ]
  },
  {
   "cell_type": "markdown",
   "metadata": {
    "id": "_pi_0qQeiZ-0"
   },
   "source": [
    "<img src=\"https://drive.google.com/uc?export=view&id=1UO2urRciECzoKE_vHy4RMGfFbkOWOGlW\" alt=\"SDA logo\" align=\"left\" width=\"100px\" hspace=\"10px\" vspace=\"10px\"/>\n",
    "<br>\n",
    "\n",
    "# TASKS"
   ]
  },
  {
   "cell_type": "markdown",
   "metadata": {
    "id": "rzZ3BUSfijKe"
   },
   "source": [
    "<img src=\"https://drive.google.com/uc?export=view&id=141XOz6N4nk8Ru1sAl7vOsAToCLrSFCAX\" alt=\"SDA logo\" width=\"150\" align='right'/>\n",
    "<br>\n",
    "\n",
    "## Linear Algebra"
   ]
  },
  {
   "cell_type": "markdown",
   "metadata": {
    "id": "2SAWPPl8ipUl"
   },
   "source": [
    "### Please make sure that **<font color='#306998'>TASKS </font><font color='#ffd33b'>1.1 - 1.10</font>** and **<font color='#306998'>TASKS </font><font color='#ffd33b'>1.10 - 1.24</font>** are already completed :)"
   ]
  },
  {
   "cell_type": "markdown",
   "metadata": {
    "id": "FquByg7fjLiz"
   },
   "source": [
    "### **<font color='#306998'>TASK </font><font color='#ffd33b'>1.25</font>**\n",
    "\n",
    "For the matrix from task 1.7:\n",
    "* calculate its determinant,\n",
    "* find inverse matrix.\n",
    "\n",
    "$$\n",
    "A=\n",
    "\\begin{bmatrix}\n",
    "1 & 2 & 3 & 4 \\\\\n",
    "5 & 6 & 7 & 8 \\\\\n",
    "9 & 10 & 11 & 12 \\\\\n",
    "13 & 14 & 15 & 16\n",
    "\\end{bmatrix}\n",
    "$$"
   ]
  },
  {
   "cell_type": "code",
   "execution_count": null,
   "metadata": {
    "id": "-J54TJx52f_7"
   },
   "outputs": [],
   "source": [
    "import numpy as np"
   ]
  },
  {
   "cell_type": "code",
   "execution_count": null,
   "metadata": {
    "colab": {
     "base_uri": "https://localhost:8080/"
    },
    "executionInfo": {
     "elapsed": 4,
     "status": "ok",
     "timestamp": 1711801277296,
     "user": {
      "displayName": "Piotr Skoczylas",
      "userId": "06783314259813611768"
     },
     "user_tz": -60
    },
    "id": "S1rML_dOTCLK",
    "outputId": "6afc15bb-3b47-420c-f528-035afd2b24a8"
   },
   "outputs": [
    {
     "data": {
      "text/plain": [
       "0.0"
      ]
     },
     "execution_count": 10,
     "metadata": {},
     "output_type": "execute_result"
    }
   ],
   "source": [
    "A = np.arange(1, 17).reshape(4, 4)\n",
    "np.linalg.det(A)"
   ]
  },
  {
   "cell_type": "code",
   "execution_count": null,
   "metadata": {
    "colab": {
     "base_uri": "https://localhost:8080/",
     "height": 298
    },
    "executionInfo": {
     "elapsed": 310,
     "status": "error",
     "timestamp": 1711801279448,
     "user": {
      "displayName": "Piotr Skoczylas",
      "userId": "06783314259813611768"
     },
     "user_tz": -60
    },
    "id": "gVaFxJu7TIQ_",
    "outputId": "6c827975-55ab-4920-c04e-63d79c2b3014"
   },
   "outputs": [
    {
     "ename": "LinAlgError",
     "evalue": "Singular matrix",
     "output_type": "error",
     "traceback": [
      "\u001b[0;31m---------------------------------------------------------------------------\u001b[0m",
      "\u001b[0;31mLinAlgError\u001b[0m                               Traceback (most recent call last)",
      "\u001b[0;32m<ipython-input-11-ae645f97e1f8>\u001b[0m in \u001b[0;36m<cell line: 1>\u001b[0;34m()\u001b[0m\n\u001b[0;32m----> 1\u001b[0;31m \u001b[0mnp\u001b[0m\u001b[0;34m.\u001b[0m\u001b[0mlinalg\u001b[0m\u001b[0;34m.\u001b[0m\u001b[0minv\u001b[0m\u001b[0;34m(\u001b[0m\u001b[0mA\u001b[0m\u001b[0;34m)\u001b[0m\u001b[0;34m\u001b[0m\u001b[0;34m\u001b[0m\u001b[0m\n\u001b[0m",
      "\u001b[0;32m/usr/local/lib/python3.10/dist-packages/numpy/linalg/linalg.py\u001b[0m in \u001b[0;36minv\u001b[0;34m(a)\u001b[0m\n\u001b[1;32m    559\u001b[0m     \u001b[0msignature\u001b[0m \u001b[0;34m=\u001b[0m \u001b[0;34m'D->D'\u001b[0m \u001b[0;32mif\u001b[0m \u001b[0misComplexType\u001b[0m\u001b[0;34m(\u001b[0m\u001b[0mt\u001b[0m\u001b[0;34m)\u001b[0m \u001b[0;32melse\u001b[0m \u001b[0;34m'd->d'\u001b[0m\u001b[0;34m\u001b[0m\u001b[0;34m\u001b[0m\u001b[0m\n\u001b[1;32m    560\u001b[0m     \u001b[0mextobj\u001b[0m \u001b[0;34m=\u001b[0m \u001b[0mget_linalg_error_extobj\u001b[0m\u001b[0;34m(\u001b[0m\u001b[0m_raise_linalgerror_singular\u001b[0m\u001b[0;34m)\u001b[0m\u001b[0;34m\u001b[0m\u001b[0;34m\u001b[0m\u001b[0m\n\u001b[0;32m--> 561\u001b[0;31m     \u001b[0mainv\u001b[0m \u001b[0;34m=\u001b[0m \u001b[0m_umath_linalg\u001b[0m\u001b[0;34m.\u001b[0m\u001b[0minv\u001b[0m\u001b[0;34m(\u001b[0m\u001b[0ma\u001b[0m\u001b[0;34m,\u001b[0m \u001b[0msignature\u001b[0m\u001b[0;34m=\u001b[0m\u001b[0msignature\u001b[0m\u001b[0;34m,\u001b[0m \u001b[0mextobj\u001b[0m\u001b[0;34m=\u001b[0m\u001b[0mextobj\u001b[0m\u001b[0;34m)\u001b[0m\u001b[0;34m\u001b[0m\u001b[0;34m\u001b[0m\u001b[0m\n\u001b[0m\u001b[1;32m    562\u001b[0m     \u001b[0;32mreturn\u001b[0m \u001b[0mwrap\u001b[0m\u001b[0;34m(\u001b[0m\u001b[0mainv\u001b[0m\u001b[0;34m.\u001b[0m\u001b[0mastype\u001b[0m\u001b[0;34m(\u001b[0m\u001b[0mresult_t\u001b[0m\u001b[0;34m,\u001b[0m \u001b[0mcopy\u001b[0m\u001b[0;34m=\u001b[0m\u001b[0;32mFalse\u001b[0m\u001b[0;34m)\u001b[0m\u001b[0;34m)\u001b[0m\u001b[0;34m\u001b[0m\u001b[0;34m\u001b[0m\u001b[0m\n\u001b[1;32m    563\u001b[0m \u001b[0;34m\u001b[0m\u001b[0m\n",
      "\u001b[0;32m/usr/local/lib/python3.10/dist-packages/numpy/linalg/linalg.py\u001b[0m in \u001b[0;36m_raise_linalgerror_singular\u001b[0;34m(err, flag)\u001b[0m\n\u001b[1;32m    110\u001b[0m \u001b[0;34m\u001b[0m\u001b[0m\n\u001b[1;32m    111\u001b[0m \u001b[0;32mdef\u001b[0m \u001b[0m_raise_linalgerror_singular\u001b[0m\u001b[0;34m(\u001b[0m\u001b[0merr\u001b[0m\u001b[0;34m,\u001b[0m \u001b[0mflag\u001b[0m\u001b[0;34m)\u001b[0m\u001b[0;34m:\u001b[0m\u001b[0;34m\u001b[0m\u001b[0;34m\u001b[0m\u001b[0m\n\u001b[0;32m--> 112\u001b[0;31m     \u001b[0;32mraise\u001b[0m \u001b[0mLinAlgError\u001b[0m\u001b[0;34m(\u001b[0m\u001b[0;34m\"Singular matrix\"\u001b[0m\u001b[0;34m)\u001b[0m\u001b[0;34m\u001b[0m\u001b[0;34m\u001b[0m\u001b[0m\n\u001b[0m\u001b[1;32m    113\u001b[0m \u001b[0;34m\u001b[0m\u001b[0m\n\u001b[1;32m    114\u001b[0m \u001b[0;32mdef\u001b[0m \u001b[0m_raise_linalgerror_nonposdef\u001b[0m\u001b[0;34m(\u001b[0m\u001b[0merr\u001b[0m\u001b[0;34m,\u001b[0m \u001b[0mflag\u001b[0m\u001b[0;34m)\u001b[0m\u001b[0;34m:\u001b[0m\u001b[0;34m\u001b[0m\u001b[0;34m\u001b[0m\u001b[0m\n",
      "\u001b[0;31mLinAlgError\u001b[0m: Singular matrix"
     ]
    }
   ],
   "source": [
    "np.linalg.inv(A)"
   ]
  },
  {
   "cell_type": "markdown",
   "metadata": {
    "id": "4RwWHLhjTsyi"
   },
   "source": [
    "Next, change the last value to 0:"
   ]
  },
  {
   "cell_type": "code",
   "execution_count": null,
   "metadata": {
    "colab": {
     "base_uri": "https://localhost:8080/"
    },
    "executionInfo": {
     "elapsed": 3,
     "status": "ok",
     "timestamp": 1711801800829,
     "user": {
      "displayName": "Piotr Skoczylas",
      "userId": "06783314259813611768"
     },
     "user_tz": -60
    },
    "id": "dzUGAd7PT_gD",
    "outputId": "6dc1919b-9d46-46d1-ba11-74faad977c63"
   },
   "outputs": [
    {
     "data": {
      "text/plain": [
       "array([[ 3,  2, -1,  1],\n",
       "       [ 1,  0,  1,  2],\n",
       "       [ 2,  1,  1, -1],\n",
       "       [ 1,  1,  1,  0]])"
      ]
     },
     "execution_count": 54,
     "metadata": {},
     "output_type": "execute_result"
    }
   ],
   "source": [
    "B = A.copy()\n",
    "B[-1, -1] = 0\n",
    "# B.flat[-1] = 0\n",
    "\n",
    "B"
   ]
  },
  {
   "cell_type": "code",
   "execution_count": null,
   "metadata": {
    "colab": {
     "base_uri": "https://localhost:8080/"
    },
    "executionInfo": {
     "elapsed": 2,
     "status": "ok",
     "timestamp": 1711801743628,
     "user": {
      "displayName": "Piotr Skoczylas",
      "userId": "06783314259813611768"
     },
     "user_tz": -60
    },
    "id": "owzyt372TqWH",
    "outputId": "cd93f8da-90c3-4d8c-a316-3e112d86706e"
   },
   "outputs": [
    {
     "data": {
      "text/plain": [
       "(-11.000000000000002,\n",
       " array([[ 0.09090909,  0.27272727,  0.63636364, -0.81818182],\n",
       "        [ 0.18181818, -0.45454545, -0.72727273,  1.36363636],\n",
       "        [-0.27272727,  0.18181818,  0.09090909,  0.45454545],\n",
       "        [ 0.09090909,  0.27272727, -0.36363636,  0.18181818]]))"
      ]
     },
     "execution_count": 48,
     "metadata": {},
     "output_type": "execute_result"
    }
   ],
   "source": [
    "np.linalg.det(B), np.linalg.inv(B)"
   ]
  },
  {
   "cell_type": "code",
   "execution_count": null,
   "metadata": {
    "colab": {
     "base_uri": "https://localhost:8080/"
    },
    "executionInfo": {
     "elapsed": 269,
     "status": "ok",
     "timestamp": 1711801756666,
     "user": {
      "displayName": "Piotr Skoczylas",
      "userId": "06783314259813611768"
     },
     "user_tz": -60
    },
    "id": "Eb5wFx9TUeBo",
    "outputId": "3bf4e5de-7fec-4938-b162-4e8b70457a69"
   },
   "outputs": [
    {
     "data": {
      "text/plain": [
       "array([[ 1.00000000e+00,  5.55111512e-17,  0.00000000e+00,\n",
       "        -2.22044605e-16],\n",
       "       [-5.55111512e-17,  1.00000000e+00,  0.00000000e+00,\n",
       "         1.66533454e-16],\n",
       "       [-2.77555756e-17,  5.55111512e-17,  1.00000000e+00,\n",
       "         0.00000000e+00],\n",
       "       [ 5.55111512e-17,  5.55111512e-17, -2.77555756e-17,\n",
       "         1.00000000e+00]])"
      ]
     },
     "execution_count": 49,
     "metadata": {},
     "output_type": "execute_result"
    }
   ],
   "source": [
    "np.matmul(B, np.linalg.inv(B))"
   ]
  },
  {
   "cell_type": "code",
   "execution_count": null,
   "metadata": {
    "colab": {
     "base_uri": "https://localhost:8080/"
    },
    "executionInfo": {
     "elapsed": 6,
     "status": "ok",
     "timestamp": 1711801782441,
     "user": {
      "displayName": "Piotr Skoczylas",
      "userId": "06783314259813611768"
     },
     "user_tz": -60
    },
    "id": "L0QhPC9nVgRf",
    "outputId": "387b3818-e6dd-415d-ea35-e1ca21014390"
   },
   "outputs": [
    {
     "data": {
      "text/plain": [
       "array([[ 1.,  0.,  0., -0.],\n",
       "       [-0.,  1.,  0.,  0.],\n",
       "       [-0.,  0.,  1.,  0.],\n",
       "       [ 0.,  0., -0.,  1.]])"
      ]
     },
     "execution_count": 53,
     "metadata": {},
     "output_type": "execute_result"
    }
   ],
   "source": [
    "np.round(np.matmul(B, np.linalg.inv(B)), 5)"
   ]
  },
  {
   "cell_type": "markdown",
   "metadata": {
    "id": "ESJ77lr8Vm83"
   },
   "source": [
    "... and try with differnt matrix:\n",
    "\n",
    "$$\n",
    "C=\n",
    "\\begin{bmatrix}\n",
    "3 & 2 & -1 & 1 \\\\\n",
    "1 & 0 & 1 & 2 \\\\\n",
    "2 & 1 & 1 & -1 \\\\\n",
    "1 & 1 & 1 & 0\n",
    "\\end{bmatrix}\n",
    "$$"
   ]
  },
  {
   "cell_type": "code",
   "execution_count": null,
   "metadata": {
    "colab": {
     "base_uri": "https://localhost:8080/"
    },
    "executionInfo": {
     "elapsed": 3,
     "status": "ok",
     "timestamp": 1711801865380,
     "user": {
      "displayName": "Piotr Skoczylas",
      "userId": "06783314259813611768"
     },
     "user_tz": -60
    },
    "id": "PBq8jHMxVK0U",
    "outputId": "34c9505e-1c8a-46c2-8441-ad157bc50d5d"
   },
   "outputs": [
    {
     "data": {
      "text/plain": [
       "array([[ 3,  2, -1,  1],\n",
       "       [ 1,  0,  1,  2],\n",
       "       [ 2,  1,  1, -1],\n",
       "       [ 1,  1,  1,  0]])"
      ]
     },
     "execution_count": 55,
     "metadata": {},
     "output_type": "execute_result"
    }
   ],
   "source": [
    "C = np.array([[3,2,-1,1], [1,0,1,2], [2,1,1,-1], [1,1,1,0]])\n",
    "C"
   ]
  },
  {
   "cell_type": "code",
   "execution_count": null,
   "metadata": {
    "colab": {
     "base_uri": "https://localhost:8080/"
    },
    "executionInfo": {
     "elapsed": 5,
     "status": "ok",
     "timestamp": 1711801876175,
     "user": {
      "displayName": "Piotr Skoczylas",
      "userId": "06783314259813611768"
     },
     "user_tz": -60
    },
    "id": "q99P1sSfVSeh",
    "outputId": "9bbd77a1-a52f-45dc-c34f-15dca8396af4"
   },
   "outputs": [
    {
     "data": {
      "text/plain": [
       "array([[ 1.,  0.,  0., -0.],\n",
       "       [-0.,  1.,  0.,  0.],\n",
       "       [-0.,  0.,  1.,  0.],\n",
       "       [ 0.,  0., -0.,  1.]])"
      ]
     },
     "execution_count": 57,
     "metadata": {},
     "output_type": "execute_result"
    }
   ],
   "source": [
    "np.round(np.matmul(C, np.linalg.inv(C)))"
   ]
  },
  {
   "cell_type": "markdown",
   "metadata": {
    "id": "6s2dqsOMYsqn"
   },
   "source": [
    "**<font color='#ed7d31'>SOLVING SYSTEMS OF LINEAR EQUATIONS</font>**\n",
    "\n",
    "There are a few methods to solve systems of linear equations at a *school-level* mathematics. Although they are very effective they can require a lot of time and work, and can be especially difficult to apply to a larger number of variables. See, how you can address it with Linear Algebra.\n",
    "\n",
    "Let's consider the following system of equations:\n",
    "$$\n",
    "\\begin{cases}\n",
    "    x_1 + x_2 = 4\\\\\n",
    "    2x_1 - x_2 = 5\n",
    "\\end{cases}\n",
    "$$\n",
    "it can be written as $Ax = y,$ where\n",
    "$$\n",
    "x=\\begin{bmatrix}\n",
    "    x_1 \\\\\n",
    "    x_2\n",
    "\\end{bmatrix},\n",
    "y=\\begin{bmatrix}\n",
    "    y_1 \\\\\n",
    "    y_2\n",
    "\\end{bmatrix}=\n",
    "\\begin{bmatrix}\n",
    "    4 \\\\\n",
    "    5\n",
    "\\end{bmatrix},\n",
    "$$and\n",
    "$$\n",
    "A=\\begin{bmatrix}\n",
    "1 & 1\\\\\n",
    "2 & -1\n",
    "\\end{bmatrix}.\n",
    "$$\n",
    "If an inverse matrix $A^{-1}$ exists, you can easily solve the equation by multiplying both sides by it from the left side:\n",
    "$$\n",
    "Ax=y \\\\\n",
    "x=Ix=A^{-1} Ax=A^{-1} y\n",
    "$$\n",
    "\n",
    "\n",
    "### **<font color='#306998'>TASK </font><font color='#ffd33b'>1.26</font>**\n",
    "\n",
    "Solve the system of equations mentioned above.\n",
    "\n",
    "*Correct answer: $$x = (x_1, x_2) = (3, 1).$$*\n",
    "\n",
    "*Hint: There are functioned defined within NumPy package for both of these tasks; matrix inverse & mathematical multiplication of two matrices.*"
   ]
  },
  {
   "cell_type": "code",
   "execution_count": null,
   "metadata": {
    "id": "EEllYRWDSeXE"
   },
   "outputs": [],
   "source": [
    "A = np.array([[1, 1], [2, -1]])\n",
    "y = np.array([[4], [5]])"
   ]
  },
  {
   "cell_type": "code",
   "execution_count": null,
   "metadata": {
    "colab": {
     "base_uri": "https://localhost:8080/"
    },
    "executionInfo": {
     "elapsed": 284,
     "status": "ok",
     "timestamp": 1711802143147,
     "user": {
      "displayName": "Piotr Skoczylas",
      "userId": "06783314259813611768"
     },
     "user_tz": -60
    },
    "id": "4rYQ2SMoW45S",
    "outputId": "e94a7597-2e27-462e-9f25-adff3d8a4a72"
   },
   "outputs": [
    {
     "data": {
      "text/plain": [
       "array([[ 0.33333333,  0.33333333],\n",
       "       [ 0.66666667, -0.33333333]])"
      ]
     },
     "execution_count": 59,
     "metadata": {},
     "output_type": "execute_result"
    }
   ],
   "source": [
    "A_inv = np.linalg.inv(A)\n",
    "A_inv"
   ]
  },
  {
   "cell_type": "code",
   "execution_count": null,
   "metadata": {
    "colab": {
     "base_uri": "https://localhost:8080/"
    },
    "executionInfo": {
     "elapsed": 4,
     "status": "ok",
     "timestamp": 1711802153006,
     "user": {
      "displayName": "Piotr Skoczylas",
      "userId": "06783314259813611768"
     },
     "user_tz": -60
    },
    "id": "rOjwSrDqW83W",
    "outputId": "dbb05e6d-6f76-45e2-fab7-da927835cf5d"
   },
   "outputs": [
    {
     "data": {
      "text/plain": [
       "array([[3.],\n",
       "       [1.]])"
      ]
     },
     "execution_count": 60,
     "metadata": {},
     "output_type": "execute_result"
    }
   ],
   "source": [
    "np.matmul(A_inv, y)"
   ]
  },
  {
   "cell_type": "markdown",
   "metadata": {
    "id": "m9qpsjzJ8RNv"
   },
   "source": [
    "The systems below were copied from: [Lumen: College Algebra](https://courses.lumenlearning.com/wmopen-collegealgebra/chapter/introduction-systems-of-linear-equations-three-variables/).\n",
    "\n",
    "### **<font color='#306998'>TASK </font><font color='#ffd33b'>1.27</font>**\n",
    "\n",
    "What is the solution to the system of equations below?\n",
    "\\begin{cases}\n",
    "    x_1 - 2x_2+3x_3 = 9\\\\\n",
    "    -x_1 +3x_2- x_3 = -6\\\\\n",
    "    2x_1-5x_2+5x_3=17\n",
    "\\end{cases}\n",
    "\n",
    "*Correct answer: $$x = (x_1, x_2, x_3) = (1, -1, 2).$$*"
   ]
  },
  {
   "cell_type": "code",
   "execution_count": null,
   "metadata": {
    "id": "3F-VVUtCSgTA"
   },
   "outputs": [],
   "source": []
  },
  {
   "cell_type": "markdown",
   "metadata": {
    "id": "ZfqOKRMJ-Ns8"
   },
   "source": [
    "### **<font color='#306998'>TASK </font><font color='#ffd33b'>1.28</font>**\n",
    "\n",
    "Solve the system of equations in three variables:\n",
    "\\begin{cases}\n",
    "    2x_1 + x_2 - 2x_3 = -1\\\\\n",
    "    3x_1 - 3x_2 - x_3 = 5\\\\\n",
    "    x_1 - 2x_2 + 3x_3 = 6\n",
    "\\end{cases}\n",
    "\n",
    "*Correct answer: $$x = (x_1, x_2, x_3) = (1, -1, 1).$$*"
   ]
  },
  {
   "cell_type": "code",
   "execution_count": null,
   "metadata": {
    "id": "sS_5AAj5Shdz"
   },
   "outputs": [],
   "source": []
  },
  {
   "cell_type": "markdown",
   "metadata": {
    "id": "UtNQriAT-4_L"
   },
   "source": [
    "### **<font color='#306998'>TASK </font><font color='#ffd33b'>1.29</font>**\n",
    "\n",
    "Determine whether the triple $x = (x_1, x_2, x_3) = (3, -2, 1)$ is a solution to the system:\n",
    "\n",
    "\\begin{cases}\n",
    "    x_1 + x_2 + x_3 = 2\\\\\n",
    "    6x_1 - 4x_2 + 5x_3 = 31\\\\\n",
    "    5x_1 + 2x_2 + 2x_3 = 13.\n",
    "\\end{cases}\n",
    "\n",
    "*Correct answer: yes, it is.*"
   ]
  },
  {
   "cell_type": "code",
   "execution_count": null,
   "metadata": {
    "id": "rrlnxu9ESizf"
   },
   "outputs": [],
   "source": []
  },
  {
   "cell_type": "markdown",
   "metadata": {
    "id": "hLv_0aobBLGw"
   },
   "source": [
    "### **<font color='#306998'>TASK </font><font color='#ffd33b'>1.30</font>**\n",
    "\n",
    "Check whether the system solution exists:\n",
    "\n",
    "\\begin{cases}\n",
    "    x_1 - 3x_2 + x_3 = 4\\\\\n",
    "    -x_1 + 2x_2 - 5x_3 = 3\\\\\n",
    "    5x_1 - 13x_2 + 13x_3 = 8.\n",
    "\\end{cases}\n",
    "\n",
    "*Correct answer: no, it does not.*\n",
    "\n",
    "*Hint: matrix is not full-rank, i.e $rank(A) = 2 \\neq 3.$*"
   ]
  },
  {
   "cell_type": "code",
   "execution_count": null,
   "metadata": {
    "id": "tna3iDXBSkCq"
   },
   "outputs": [],
   "source": []
  },
  {
   "cell_type": "markdown",
   "metadata": {
    "id": "_dhzD0xeezBG"
   },
   "source": [
    "### **<font color='#306998'>TASK </font><font color='#ffd33b'>1.31</font>** (optional)\n",
    "\n",
    "Find eigenvalues and eigenvectors associated with them for the following matrices:\n",
    "* $\n",
    "A_1=\\begin{bmatrix}\n",
    "-5 & 2\\\\\n",
    "-7 & 4\n",
    "\\end{bmatrix}\n",
    "$\n",
    "\n",
    "* $\n",
    "A_2=\\begin{bmatrix}\n",
    "1 & 0\\\\\n",
    "0 & -3\n",
    "\\end{bmatrix}\n",
    "$\n",
    "\n",
    "* $\n",
    "A_3=\\begin{bmatrix}\n",
    "5 & -10 & -5\\\\\n",
    "2 & 14 & 2\\\\\n",
    "-4 & -8 & 6\n",
    "\\end{bmatrix}\n",
    "$\n",
    "\n",
    "* $\n",
    "A_4=\\begin{bmatrix}\n",
    "1 & -1 & 2\\\\\n",
    "1 & 0 & -1\\\\\n",
    "1 & 1 & 2\n",
    "\\end{bmatrix}\n",
    "$\n",
    "\n",
    "Solutions can be complex numbers, $z\\in\\mathbb{C}$, as for $A_4$."
   ]
  },
  {
   "cell_type": "code",
   "execution_count": null,
   "metadata": {
    "colab": {
     "base_uri": "https://localhost:8080/"
    },
    "executionInfo": {
     "elapsed": 327,
     "status": "ok",
     "timestamp": 1711802241810,
     "user": {
      "displayName": "Piotr Skoczylas",
      "userId": "06783314259813611768"
     },
     "user_tz": -60
    },
    "id": "rFqC7lp2SnGe",
    "outputId": "fc93fdcb-c047-42c2-eb5b-c41b51376916"
   },
   "outputs": [
    {
     "data": {
      "text/plain": [
       "EigResult(eigenvalues=array([-3.,  2.]), eigenvectors=array([[-0.70710678, -0.27472113],\n",
       "       [-0.70710678, -0.96152395]]))"
      ]
     },
     "execution_count": 66,
     "metadata": {},
     "output_type": "execute_result"
    }
   ],
   "source": [
    "A = np.array([[-5, 2], [-7, 4]])\n",
    "np.linalg.eig(A)"
   ]
  },
  {
   "cell_type": "code",
   "execution_count": null,
   "metadata": {
    "id": "0GMM7OlfXV0c"
   },
   "outputs": [],
   "source": []
  },
  {
   "cell_type": "markdown",
   "metadata": {
    "id": "miJxoOkZ7c5y",
    "jp-MarkdownHeadingCollapsed": true
   },
   "source": [
    "<img src=\"https://drive.google.com/uc?export=view&id=141XOz6N4nk8Ru1sAl7vOsAToCLrSFCAX\" alt=\"SDA logo\" width=\"150\" align='right'/>\n",
    "<br>\n",
    "\n",
    "## Appendix: random numbers generators\n",
    "\n",
    "1. Randomly generated number(s) from normal (Gauss) distribution.\n",
    "```python\n",
    "np.random.normal()\n",
    "np.random.normal(size=6)\n",
    "```\n",
    "1. Randomly selected numbers from the uniform system.\n",
    "```python\n",
    "np.random.uniform(size=6)\n",
    "```\n",
    "1. Randomly selected number from a specific range.\n",
    "```python\n",
    "np.random.randint(3, 30, size=6)\n",
    "```\n",
    "1. Randomly selected floating-point number\n",
    "```python\n",
    "np.random.random()\n",
    "```"
   ]
  }
 ],
 "metadata": {
  "colab": {
   "provenance": []
  },
  "kernelspec": {
   "display_name": "Python 3 (ipykernel)",
   "language": "python",
   "name": "python3"
  },
  "language_info": {
   "codemirror_mode": {
    "name": "ipython",
    "version": 3
   },
   "file_extension": ".py",
   "mimetype": "text/x-python",
   "name": "python",
   "nbconvert_exporter": "python",
   "pygments_lexer": "ipython3",
   "version": "3.12.10"
  }
 },
 "nbformat": 4,
 "nbformat_minor": 4
}
