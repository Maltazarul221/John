{
 "cells": [
  {
   "cell_type": "markdown",
   "metadata": {
    "id": "-XWt3nPFhENg"
   },
   "source": [
    "<img height=\"180px\" src=\"https://drive.google.com/uc?export=view&id=141XOz6N4nk8Ru1sAl7vOsAToCLrSFCAX\" alt=\"SDA logo\" align=\"left\" hspace=\"30px\" vspace=\"50px\"/>\n",
    "\n",
    "# Welcome to your next notebook with SDA!\n",
    "\n",
    "During the classes we will mostly use [Google Colaboratory](https://colab.research.google.com/?hl=en) which is a free Jupyter notebook environment that requires no setup and runs entirely in the cloud.\n",
    "\n",
    "However, for bigger projects, especially involving Deep Learning and/or big data reading, it might be a better choice to setup Jupyter Notebook or Jupyter Lab on your computer. Also, it is worth noticing that there is a great number of useful extensions (see [nbextensions](https://jupyter-contrib-nbextensions.readthedocs.io/en/latest/index.html) and [jupyter-labextension](https://jupyterlab.readthedocs.io/en/stable/user/extensions.html)) not available for Colab users."
   ]
  },
  {
   "cell_type": "markdown",
   "metadata": {
    "id": "_pi_0qQeiZ-0"
   },
   "source": [
    "<img src=\"https://drive.google.com/uc?export=view&id=1UO2urRciECzoKE_vHy4RMGfFbkOWOGlW\" alt=\"SDA logo\" align=\"left\" width=\"100px\" hspace=\"10px\" vspace=\"10px\"/>\n",
    "<br>\n",
    "\n",
    "# TASKS"
   ]
  },
  {
   "cell_type": "markdown",
   "metadata": {
    "id": "rzZ3BUSfijKe"
   },
   "source": [
    "<img src=\"https://drive.google.com/uc?export=view&id=141XOz6N4nk8Ru1sAl7vOsAToCLrSFCAX\" alt=\"SDA logo\" width=\"150\" align='right'/>\n",
    "<br>\n",
    "\n",
    "## Linear Algebra"
   ]
  },
  {
   "cell_type": "markdown",
   "metadata": {
    "id": "2SAWPPl8ipUl"
   },
   "source": [
    "### **<font color='#306998'>TASKS </font><font color='#ffd33b'>1.1 - 1.10</font>** should be already completed :)"
   ]
  },
  {
   "cell_type": "markdown",
   "metadata": {
    "id": "FquByg7fjLiz"
   },
   "source": [
    "### **<font color='#306998'>TASK </font><font color='#ffd33b'>1.11</font>**\n",
    "\n",
    "For the matrix from task 1.7:\n",
    "* calculate its determinant, (optional)\n",
    "* calculate its trace (the sum of elements on the main diagonal),\n",
    "* find the largest and smallest item.\n",
    "\n",
    "$$\n",
    "A=\n",
    "\\begin{bmatrix}\n",
    "1 & 2 & 3 & 4 \\\\\n",
    "5 & 6 & 7 & 8 \\\\\n",
    "9 & 10 & 11 & 12 \\\\\n",
    "13 & 14 & 15 & 16\n",
    "\\end{bmatrix}\n",
    "$$"
   ]
  },
  {
   "cell_type": "code",
   "execution_count": null,
   "metadata": {
    "id": "-J54TJx52f_7"
   },
   "outputs": [],
   "source": [
    "import numpy as np"
   ]
  },
  {
   "cell_type": "code",
   "execution_count": null,
   "metadata": {
    "colab": {
     "base_uri": "https://localhost:8080/"
    },
    "executionInfo": {
     "elapsed": 5,
     "status": "ok",
     "timestamp": 1711794107447,
     "user": {
      "displayName": "Piotr Skoczylas",
      "userId": "06783314259813611768"
     },
     "user_tz": -60
    },
    "id": "k3ulJv-E4RI_",
    "outputId": "2c0a7344-f8b2-4ed9-e415-3e51c2b21c9f"
   },
   "outputs": [
    {
     "data": {
      "text/plain": [
       "array([[ 1,  2,  3,  4],\n",
       "       [ 5,  6,  7,  8],\n",
       "       [ 9, 10, 11, 12],\n",
       "       [13, 14, 15, 16]])"
      ]
     },
     "execution_count": 2,
     "metadata": {},
     "output_type": "execute_result"
    }
   ],
   "source": [
    "A = np.arange(1, 17).reshape(4, 4)\n",
    "A"
   ]
  },
  {
   "cell_type": "code",
   "execution_count": null,
   "metadata": {
    "colab": {
     "base_uri": "https://localhost:8080/"
    },
    "executionInfo": {
     "elapsed": 309,
     "status": "ok",
     "timestamp": 1711794237470,
     "user": {
      "displayName": "Piotr Skoczylas",
      "userId": "06783314259813611768"
     },
     "user_tz": -60
    },
    "id": "wxD3Gwq04UPF",
    "outputId": "272fc2b5-c56f-4eb1-920d-92b55080cc2b"
   },
   "outputs": [
    {
     "data": {
      "text/plain": [
       "(34, 34)"
      ]
     },
     "execution_count": 7,
     "metadata": {},
     "output_type": "execute_result"
    }
   ],
   "source": [
    "A.trace(), A.diagonal().sum()"
   ]
  },
  {
   "cell_type": "code",
   "execution_count": null,
   "metadata": {
    "colab": {
     "base_uri": "https://localhost:8080/"
    },
    "executionInfo": {
     "elapsed": 3,
     "status": "ok",
     "timestamp": 1711794251156,
     "user": {
      "displayName": "Piotr Skoczylas",
      "userId": "06783314259813611768"
     },
     "user_tz": -60
    },
    "id": "zr2CA9WI4uH_",
    "outputId": "a6b7b7d6-da2f-400f-e1ca-569dfe6e7256"
   },
   "outputs": [
    {
     "data": {
      "text/plain": [
       "(16, 1)"
      ]
     },
     "execution_count": 9,
     "metadata": {},
     "output_type": "execute_result"
    }
   ],
   "source": [
    "A.max(), A.min()"
   ]
  },
  {
   "cell_type": "markdown",
   "metadata": {
    "id": "V-TQENnFx1cd"
   },
   "source": [
    "### **<font color='#306998'>TASK </font><font color='#ffd33b'>1.12</font>**\n",
    "\n",
    "Define two `3x3` real matrices, ie. whose elements consist entirely of real numbers. For the first matrix, draw the numbers from standard normal (Gaussian) distribution, ie. $\\mu = 0$ and $\\sigma = 1$. For the second one, set the standard devation to 1 and mean value to 5.\n",
    "\n",
    "Next, for each of them:\n",
    "* multiply all elements by a scalar 10,\n",
    "* extract the element in the middle,\n",
    "* transpose them\n",
    "* get its trace & sum of all elements\n",
    "\n",
    "and calculate their:\n",
    "* sum\n",
    "* difference\n",
    "* element-wise multiplication result\n",
    "* element-wise division result\n",
    "* matrix product (matrix multiplication)"
   ]
  },
  {
   "cell_type": "code",
   "execution_count": null,
   "metadata": {
    "colab": {
     "base_uri": "https://localhost:8080/"
    },
    "executionInfo": {
     "elapsed": 3,
     "status": "ok",
     "timestamp": 1711794389226,
     "user": {
      "displayName": "Piotr Skoczylas",
      "userId": "06783314259813611768"
     },
     "user_tz": -60
    },
    "id": "dF1sfAbh2l8G",
    "outputId": "5fb7b73b-0c8b-4c10-bf4f-fe67136f1eec"
   },
   "outputs": [
    {
     "data": {
      "text/plain": [
       "array([[ 1.36666604, -0.17416758, -0.98557945],\n",
       "       [-0.97784966, -0.65040132, -0.55307903],\n",
       "       [-0.15539416,  1.91018295, -0.04317208]])"
      ]
     },
     "execution_count": 12,
     "metadata": {},
     "output_type": "execute_result"
    }
   ],
   "source": [
    "A = np.random.normal(size=9).reshape(3, 3)\n",
    "A"
   ]
  },
  {
   "cell_type": "code",
   "execution_count": null,
   "metadata": {
    "colab": {
     "base_uri": "https://localhost:8080/"
    },
    "executionInfo": {
     "elapsed": 3,
     "status": "ok",
     "timestamp": 1711794434938,
     "user": {
      "displayName": "Piotr Skoczylas",
      "userId": "06783314259813611768"
     },
     "user_tz": -60
    },
    "id": "JmCH18Z85X6a",
    "outputId": "4993c55a-69b0-42c1-81a1-2ffb51756d7a"
   },
   "outputs": [
    {
     "data": {
      "text/plain": [
       "array([[5.52243358, 5.70767522, 5.08059927],\n",
       "       [5.53677848, 7.01828061, 3.74271219],\n",
       "       [6.08180959, 3.82764366, 4.60168462]])"
      ]
     },
     "execution_count": 13,
     "metadata": {},
     "output_type": "execute_result"
    }
   ],
   "source": [
    "B = np.random.normal(loc=5, scale=1, size=9).reshape(3, 3)\n",
    "B"
   ]
  },
  {
   "cell_type": "code",
   "execution_count": null,
   "metadata": {
    "colab": {
     "base_uri": "https://localhost:8080/"
    },
    "executionInfo": {
     "elapsed": 3,
     "status": "ok",
     "timestamp": 1711794445650,
     "user": {
      "displayName": "Piotr Skoczylas",
      "userId": "06783314259813611768"
     },
     "user_tz": -60
    },
    "id": "vTpONIND5j27",
    "outputId": "20909d7a-b4d6-4160-e964-338e1e296455"
   },
   "outputs": [
    {
     "data": {
      "text/plain": [
       "array([[13.6666604 , -1.74167577, -9.85579451],\n",
       "       [-9.77849662, -6.50401324, -5.53079028],\n",
       "       [-1.55394163, 19.10182951, -0.4317208 ]])"
      ]
     },
     "execution_count": 14,
     "metadata": {},
     "output_type": "execute_result"
    }
   ],
   "source": [
    "A * 10"
   ]
  },
  {
   "cell_type": "code",
   "execution_count": null,
   "metadata": {
    "colab": {
     "base_uri": "https://localhost:8080/"
    },
    "executionInfo": {
     "elapsed": 3,
     "status": "ok",
     "timestamp": 1711794458572,
     "user": {
      "displayName": "Piotr Skoczylas",
      "userId": "06783314259813611768"
     },
     "user_tz": -60
    },
    "id": "q91gU4iI5mBx",
    "outputId": "1fde74b7-b5fa-4714-dc59-6349da95828c"
   },
   "outputs": [
    {
     "data": {
      "text/plain": [
       "-0.6504013241436976"
      ]
     },
     "execution_count": 15,
     "metadata": {},
     "output_type": "execute_result"
    }
   ],
   "source": [
    "A[1, 1]"
   ]
  },
  {
   "cell_type": "code",
   "execution_count": null,
   "metadata": {
    "colab": {
     "base_uri": "https://localhost:8080/"
    },
    "executionInfo": {
     "elapsed": 3,
     "status": "ok",
     "timestamp": 1711794465359,
     "user": {
      "displayName": "Piotr Skoczylas",
      "userId": "06783314259813611768"
     },
     "user_tz": -60
    },
    "id": "HE2fGZUs5pEx",
    "outputId": "1e966030-408d-496e-d2f7-ee358db8d38f"
   },
   "outputs": [
    {
     "data": {
      "text/plain": [
       "array([[ 1.36666604, -0.97784966, -0.15539416],\n",
       "       [-0.17416758, -0.65040132,  1.91018295],\n",
       "       [-0.98557945, -0.55307903, -0.04317208]])"
      ]
     },
     "execution_count": 16,
     "metadata": {},
     "output_type": "execute_result"
    }
   ],
   "source": [
    "A.T"
   ]
  },
  {
   "cell_type": "code",
   "execution_count": null,
   "metadata": {
    "colab": {
     "base_uri": "https://localhost:8080/"
    },
    "executionInfo": {
     "elapsed": 2,
     "status": "ok",
     "timestamp": 1711794479138,
     "user": {
      "displayName": "Piotr Skoczylas",
      "userId": "06783314259813611768"
     },
     "user_tz": -60
    },
    "id": "qBvm2h3l5qR4",
    "outputId": "1dddfe7a-e154-4eb6-eecb-8c33c86a89df"
   },
   "outputs": [
    {
     "data": {
      "text/plain": [
       "0.673092636473579"
      ]
     },
     "execution_count": 17,
     "metadata": {},
     "output_type": "execute_result"
    }
   ],
   "source": [
    "A.trace()"
   ]
  },
  {
   "cell_type": "code",
   "execution_count": null,
   "metadata": {
    "colab": {
     "base_uri": "https://localhost:8080/"
    },
    "executionInfo": {
     "elapsed": 3,
     "status": "ok",
     "timestamp": 1711794481361,
     "user": {
      "displayName": "Piotr Skoczylas",
      "userId": "06783314259813611768"
     },
     "user_tz": -60
    },
    "id": "Qd0mGOiz5tge",
    "outputId": "c4530784-603b-42f4-8462-8d206fec8ac9"
   },
   "outputs": [
    {
     "data": {
      "text/plain": [
       "-0.26279429399676185"
      ]
     },
     "execution_count": 18,
     "metadata": {},
     "output_type": "execute_result"
    }
   ],
   "source": [
    "A.sum()"
   ]
  },
  {
   "cell_type": "code",
   "execution_count": null,
   "metadata": {
    "colab": {
     "base_uri": "https://localhost:8080/"
    },
    "executionInfo": {
     "elapsed": 3,
     "status": "ok",
     "timestamp": 1711794489888,
     "user": {
      "displayName": "Piotr Skoczylas",
      "userId": "06783314259813611768"
     },
     "user_tz": -60
    },
    "id": "V2HZoq5n5uVf",
    "outputId": "ecfd512f-41ed-44c4-bf8f-a7b433bc0783"
   },
   "outputs": [
    {
     "data": {
      "text/plain": [
       "array([[6.88909962, 5.53350764, 4.09501982],\n",
       "       [4.55892882, 6.36787929, 3.18963316],\n",
       "       [5.92641542, 5.73782662, 4.55851254]])"
      ]
     },
     "execution_count": 19,
     "metadata": {},
     "output_type": "execute_result"
    }
   ],
   "source": [
    "A + B"
   ]
  },
  {
   "cell_type": "code",
   "execution_count": null,
   "metadata": {
    "colab": {
     "base_uri": "https://localhost:8080/"
    },
    "executionInfo": {
     "elapsed": 2,
     "status": "ok",
     "timestamp": 1711794496339,
     "user": {
      "displayName": "Piotr Skoczylas",
      "userId": "06783314259813611768"
     },
     "user_tz": -60
    },
    "id": "TO0pM28e5wSt",
    "outputId": "a71af523-0639-40d3-fcac-d7faa5677903"
   },
   "outputs": [
    {
     "data": {
      "text/plain": [
       "array([[-4.15576754, -5.8818428 , -6.06617873],\n",
       "       [-6.51462814, -7.66868193, -4.29579122],\n",
       "       [-6.23720375, -1.91746071, -4.6448567 ]])"
      ]
     },
     "execution_count": 20,
     "metadata": {},
     "output_type": "execute_result"
    }
   ],
   "source": [
    "A - B"
   ]
  },
  {
   "cell_type": "code",
   "execution_count": null,
   "metadata": {
    "colab": {
     "base_uri": "https://localhost:8080/"
    },
    "executionInfo": {
     "elapsed": 2,
     "status": "ok",
     "timestamp": 1711794509057,
     "user": {
      "displayName": "Piotr Skoczylas",
      "userId": "06783314259813611768"
     },
     "user_tz": -60
    },
    "id": "6keM4U535yGg",
    "outputId": "93641be9-8cc4-4ba9-e017-a895acb5e5d3"
   },
   "outputs": [
    {
     "data": {
      "text/plain": [
       "array([[ 7.54732244, -0.99409196, -5.00733425],\n",
       "       [-5.41413696, -4.564699  , -2.07001562],\n",
       "       [-0.94507771,  7.31149967, -0.19866429]])"
      ]
     },
     "execution_count": 21,
     "metadata": {},
     "output_type": "execute_result"
    }
   ],
   "source": [
    "A * B"
   ]
  },
  {
   "cell_type": "code",
   "execution_count": null,
   "metadata": {
    "colab": {
     "base_uri": "https://localhost:8080/"
    },
    "executionInfo": {
     "elapsed": 407,
     "status": "ok",
     "timestamp": 1711794516613,
     "user": {
      "displayName": "Piotr Skoczylas",
      "userId": "06783314259813611768"
     },
     "user_tz": -60
    },
    "id": "Zx6ZPNNO51Ja",
    "outputId": "efa7f9cf-bc61-438d-82b2-c186ef0fca1d"
   },
   "outputs": [
    {
     "data": {
      "text/plain": [
       "array([[ 0.24747532, -0.03051463, -0.19398882],\n",
       "       [-0.17660986, -0.09267246, -0.14777493],\n",
       "       [-0.02555065,  0.49904932, -0.0093818 ]])"
      ]
     },
     "execution_count": 22,
     "metadata": {},
     "output_type": "execute_result"
    }
   ],
   "source": [
    "A / B"
   ]
  },
  {
   "cell_type": "code",
   "execution_count": null,
   "metadata": {
    "colab": {
     "base_uri": "https://localhost:8080/"
    },
    "executionInfo": {
     "elapsed": 2,
     "status": "ok",
     "timestamp": 1711794528003,
     "user": {
      "displayName": "Piotr Skoczylas",
      "userId": "06783314259813611768"
     },
     "user_tz": -60
    },
    "id": "K_DoPwZy52-C",
    "outputId": "29a07e74-51c9-4880-b26f-111fb113783c"
   },
   "outputs": [
    {
     "data": {
      "text/plain": [
       "array([[  0.58888859,   2.80568202,   1.75629757],\n",
       "       [-12.3649592 , -12.26293672,  -9.9474225 ],\n",
       "       [  9.45554155,  12.35401322,   6.16110524]])"
      ]
     },
     "execution_count": 23,
     "metadata": {},
     "output_type": "execute_result"
    }
   ],
   "source": [
    "np.matmul(A, B)"
   ]
  },
  {
   "cell_type": "markdown",
   "metadata": {
    "id": "b_LyBRSk53CY"
   },
   "source": [
    "### **<font color='#306998'>TASK </font><font color='#ffd33b'>1.14</font>**\n",
    "\n",
    "Create an array with the following elements: `[23, 45, 124, 112, 150, 43, 25, 17, 268, 254, 95, 97, 8]` and filter out the ones that are less than or equal to their mean value. How many such numbers are there?"
   ]
  },
  {
   "cell_type": "code",
   "execution_count": null,
   "metadata": {
    "colab": {
     "base_uri": "https://localhost:8080/"
    },
    "executionInfo": {
     "elapsed": 2,
     "status": "ok",
     "timestamp": 1711794558758,
     "user": {
      "displayName": "Piotr Skoczylas",
      "userId": "06783314259813611768"
     },
     "user_tz": -60
    },
    "id": "D2lVNEsk2puf",
    "outputId": "9f47d759-e1d8-4b79-e0ed-0420adba5543"
   },
   "outputs": [
    {
     "data": {
      "text/plain": [
       "array([ 23,  45, 124, 112, 150,  43,  25,  17, 268, 254,  95,  97,   8])"
      ]
     },
     "execution_count": 25,
     "metadata": {},
     "output_type": "execute_result"
    }
   ],
   "source": [
    "array = np.array([23, 45, 124, 112, 150, 43, 25, 17, 268, 254, 95, 97, 8])\n",
    "array"
   ]
  },
  {
   "cell_type": "code",
   "execution_count": null,
   "metadata": {
    "colab": {
     "base_uri": "https://localhost:8080/"
    },
    "executionInfo": {
     "elapsed": 2,
     "status": "ok",
     "timestamp": 1711794601480,
     "user": {
      "displayName": "Piotr Skoczylas",
      "userId": "06783314259813611768"
     },
     "user_tz": -60
    },
    "id": "oVPgFhFV6BUv",
    "outputId": "c76fb51d-5939-4816-8010-efb3e39e9b14"
   },
   "outputs": [
    {
     "data": {
      "text/plain": [
       "array([23, 45, 43, 25, 17, 95, 97,  8])"
      ]
     },
     "execution_count": 28,
     "metadata": {},
     "output_type": "execute_result"
    }
   ],
   "source": [
    "array[array <= array.mean()]"
   ]
  },
  {
   "cell_type": "code",
   "execution_count": null,
   "metadata": {
    "colab": {
     "base_uri": "https://localhost:8080/"
    },
    "executionInfo": {
     "elapsed": 3,
     "status": "ok",
     "timestamp": 1711794613113,
     "user": {
      "displayName": "Piotr Skoczylas",
      "userId": "06783314259813611768"
     },
     "user_tz": -60
    },
    "id": "ZrUDOS-I6NOs",
    "outputId": "52fd8109-dc39-4daa-f5e7-645304f05331"
   },
   "outputs": [
    {
     "data": {
      "text/plain": [
       "8"
      ]
     },
     "execution_count": 29,
     "metadata": {},
     "output_type": "execute_result"
    }
   ],
   "source": [
    "len(array[array <= array.mean()])"
   ]
  },
  {
   "cell_type": "markdown",
   "metadata": {
    "id": "q4d0Tjig6Yae"
   },
   "source": [
    "### **<font color='#306998'>TASK </font><font color='#ffd33b'>1.15</font>**\n",
    "\n",
    "Use the array defined above to evaluate mean value and standard deviation. Check how many of these numbers is within a distance of at most one standard deviation from the mean, ie. belongs to the closed interval `[mean - std, mean + std]`."
   ]
  },
  {
   "cell_type": "code",
   "execution_count": null,
   "metadata": {
    "colab": {
     "base_uri": "https://localhost:8080/"
    },
    "executionInfo": {
     "elapsed": 4,
     "status": "ok",
     "timestamp": 1711794920222,
     "user": {
      "displayName": "Piotr Skoczylas",
      "userId": "06783314259813611768"
     },
     "user_tz": -60
    },
    "id": "s4W-nXMa2qvy",
    "outputId": "4c839155-50b4-427b-ced2-b07f899968c7"
   },
   "outputs": [
    {
     "data": {
      "text/plain": [
       "10"
      ]
     },
     "execution_count": 35,
     "metadata": {},
     "output_type": "execute_result"
    }
   ],
   "source": [
    "lower_limit = array.mean() - array.std()\n",
    "upper_limit = array.mean() + array.std()\n",
    "\n",
    "np.sum((array > lower_limit) & (array < upper_limit))\n",
    "\n",
    "# to see which values belong to the interval\n",
    "# array[(array > lower_limit) & (array < upper_limit)]\n",
    "# len(...)"
   ]
  },
  {
   "cell_type": "markdown",
   "metadata": {
    "id": "xt2tc1W2694T"
   },
   "source": [
    "### **<font color='#306998'>TASK </font><font color='#ffd33b'>1.16</font>**\n",
    "\n",
    "Write a function `get_sum_of_squared_naturals()` that takes one argument as an input (call it `max_value`) and returns the sum of squared natural numbers `k` such that $k \\leq max\\_value.$\n",
    "\n",
    "Make sure that the input given by a user is a natural number. Set the default value to 5."
   ]
  },
  {
   "cell_type": "code",
   "execution_count": null,
   "metadata": {
    "colab": {
     "base_uri": "https://localhost:8080/"
    },
    "executionInfo": {
     "elapsed": 3,
     "status": "ok",
     "timestamp": 1711795597767,
     "user": {
      "displayName": "Piotr Skoczylas",
      "userId": "06783314259813611768"
     },
     "user_tz": -60
    },
    "id": "aeJipI3c2sa2",
    "outputId": "d5e2bf83-1ea5-41e2-80ff-6984f8302d01"
   },
   "outputs": [
    {
     "data": {
      "text/plain": [
       "55"
      ]
     },
     "execution_count": 66,
     "metadata": {},
     "output_type": "execute_result"
    }
   ],
   "source": [
    "def get_sum_of_squared_naturals(max_value=5):\n",
    "    assert isinstance(max_value, int), \"Input is not an integer\"\n",
    "    assert max_value >= 0, \"Input is not a positive number\"\n",
    "\n",
    "    return np.sum(np.arange(max_value + 1) ** 2)\n",
    "\n",
    "\n",
    "get_sum_of_squared_naturals()\n",
    "# get_sum_of_squared_naturals(3)\n",
    "# get_sum_of_squared_naturals(5.4)\n",
    "# get_sum_of_squared_naturals(-1)"
   ]
  },
  {
   "cell_type": "markdown",
   "metadata": {
    "id": "gumAcno1Ks93"
   },
   "source": [
    "### **<font color='#306998'>TASK </font><font color='#ffd33b'>1.17</font>**\n",
    "\n",
    "Create the following 4x4 matrix 4x4, and then:\n",
    "* print out an element from the second row and the third column (starting from 1),\n",
    "* check which element is equal to 0,\n",
    "* with array indexing:\n",
    "    * display element equal to 3,\n",
    "    * view vector `[3, 11, 0]`,\n",
    "* calculate its:\n",
    "    * determinant,\n",
    "    * trace (sum of diagonal entries),\n",
    "    * the maximum and mininum elements,\n",
    "    * the mean value of each column,\n",
    "    * the maximum value of each row,\n",
    "* find its transposition and multiply both matrices mathematically, ie. get the product of $A \\cdot A^T,$\n",
    "* determine its eigenvalues and eigenvectors. (optional)\n",
    "\n",
    "```\n",
    "np.array([\n",
    "    [1, 15, 4, 13],\n",
    "    [8, 21, 3, 12],\n",
    "    [11, 13, 11, 5],\n",
    "    [32, 13, 0, 2]\n",
    "])\n",
    "```"
   ]
  },
  {
   "cell_type": "code",
   "execution_count": null,
   "metadata": {
    "id": "VCE_5vg22toW"
   },
   "outputs": [],
   "source": [
    "A = np.array([\n",
    "    [1, 15, 4, 13],\n",
    "    [8, 21, 3, 12],\n",
    "    [11, 13, 11, 5],\n",
    "    [32, 13, 0, 2]\n",
    "])"
   ]
  },
  {
   "cell_type": "code",
   "execution_count": null,
   "metadata": {
    "colab": {
     "base_uri": "https://localhost:8080/"
    },
    "executionInfo": {
     "elapsed": 4,
     "status": "ok",
     "timestamp": 1711795140536,
     "user": {
      "displayName": "Piotr Skoczylas",
      "userId": "06783314259813611768"
     },
     "user_tz": -60
    },
    "id": "13RYnIcs8OQw",
    "outputId": "58ca3c66-5f3e-4e00-e367-1622afb66f1d"
   },
   "outputs": [
    {
     "data": {
      "text/plain": [
       "array([[False, False, False, False],\n",
       "       [False, False, False, False],\n",
       "       [False, False, False, False],\n",
       "       [False, False,  True, False]])"
      ]
     },
     "execution_count": 41,
     "metadata": {},
     "output_type": "execute_result"
    }
   ],
   "source": [
    "A == 0"
   ]
  },
  {
   "cell_type": "code",
   "execution_count": null,
   "metadata": {
    "colab": {
     "base_uri": "https://localhost:8080/"
    },
    "executionInfo": {
     "elapsed": 3,
     "status": "ok",
     "timestamp": 1711795161342,
     "user": {
      "displayName": "Piotr Skoczylas",
      "userId": "06783314259813611768"
     },
     "user_tz": -60
    },
    "id": "-m0434BA8Pmy",
    "outputId": "a0285415-5997-4f26-9804-5edd7bf3cf0d"
   },
   "outputs": [
    {
     "data": {
      "text/plain": [
       "(array([2, 2]), array([0, 2]))"
      ]
     },
     "execution_count": 43,
     "metadata": {},
     "output_type": "execute_result"
    }
   ],
   "source": [
    "np.where(A == 11)"
   ]
  },
  {
   "cell_type": "code",
   "execution_count": null,
   "metadata": {
    "colab": {
     "base_uri": "https://localhost:8080/"
    },
    "executionInfo": {
     "elapsed": 3,
     "status": "ok",
     "timestamp": 1711795191756,
     "user": {
      "displayName": "Piotr Skoczylas",
      "userId": "06783314259813611768"
     },
     "user_tz": -60
    },
    "id": "CDE7eitn8Rpy",
    "outputId": "a75d13fc-d37f-4b79-af79-3a9ffb3f3526"
   },
   "outputs": [
    {
     "data": {
      "text/plain": [
       "3"
      ]
     },
     "execution_count": 44,
     "metadata": {},
     "output_type": "execute_result"
    }
   ],
   "source": [
    "A[1, 2]"
   ]
  },
  {
   "cell_type": "code",
   "execution_count": null,
   "metadata": {
    "colab": {
     "base_uri": "https://localhost:8080/"
    },
    "executionInfo": {
     "elapsed": 4,
     "status": "ok",
     "timestamp": 1711795201039,
     "user": {
      "displayName": "Piotr Skoczylas",
      "userId": "06783314259813611768"
     },
     "user_tz": -60
    },
    "id": "iNU9C7wV8bwF",
    "outputId": "2a1ef03d-a6ae-4452-c5b0-2765b7b8423c"
   },
   "outputs": [
    {
     "data": {
      "text/plain": [
       "-19963.99999999999"
      ]
     },
     "execution_count": 45,
     "metadata": {},
     "output_type": "execute_result"
    }
   ],
   "source": [
    "np.linalg.det(A)"
   ]
  },
  {
   "cell_type": "code",
   "execution_count": null,
   "metadata": {
    "colab": {
     "base_uri": "https://localhost:8080/"
    },
    "executionInfo": {
     "elapsed": 2,
     "status": "ok",
     "timestamp": 1711795230185,
     "user": {
      "displayName": "Piotr Skoczylas",
      "userId": "06783314259813611768"
     },
     "user_tz": -60
    },
    "id": "LTbTrMCh8eHg",
    "outputId": "b0d40efc-f810-4b06-e0b6-c1cef78b3df7"
   },
   "outputs": [
    {
     "data": {
      "text/plain": [
       "array([13. , 15.5,  4.5,  8. ])"
      ]
     },
     "execution_count": 49,
     "metadata": {},
     "output_type": "execute_result"
    }
   ],
   "source": [
    "A.mean(axis=0)"
   ]
  },
  {
   "cell_type": "code",
   "execution_count": null,
   "metadata": {
    "colab": {
     "base_uri": "https://localhost:8080/"
    },
    "executionInfo": {
     "elapsed": 3,
     "status": "ok",
     "timestamp": 1711795300802,
     "user": {
      "displayName": "Piotr Skoczylas",
      "userId": "06783314259813611768"
     },
     "user_tz": -60
    },
    "id": "ptES6kRO8nT5",
    "outputId": "23c2ac77-a8d0-4308-950d-1a05a0347e87"
   },
   "outputs": [
    {
     "data": {
      "text/plain": [
       "array([[ 411,  491,  315,  253],\n",
       "       [ 491,  658,  454,  553],\n",
       "       [ 315,  454,  436,  531],\n",
       "       [ 253,  553,  531, 1197]])"
      ]
     },
     "execution_count": 52,
     "metadata": {},
     "output_type": "execute_result"
    }
   ],
   "source": [
    "np.matmul(A, A.T)"
   ]
  },
  {
   "cell_type": "code",
   "execution_count": null,
   "metadata": {
    "id": "kg3TiczK83Br"
   },
   "outputs": [],
   "source": []
  },
  {
   "cell_type": "markdown",
   "metadata": {
    "id": "mlZX_s1sMKhi"
   },
   "source": [
    "### **<font color='#306998'>TASK </font><font color='#ffd33b'>1.18</font>**\n",
    "\n",
    "Create a 3x3 array and normalize its columns, ie. scale the values such that sum of each column equals 1 (unit vectors wrt. Manhattan metric)."
   ]
  },
  {
   "cell_type": "code",
   "execution_count": null,
   "metadata": {
    "colab": {
     "base_uri": "https://localhost:8080/"
    },
    "executionInfo": {
     "elapsed": 3,
     "status": "ok",
     "timestamp": 1711795369336,
     "user": {
      "displayName": "Piotr Skoczylas",
      "userId": "06783314259813611768"
     },
     "user_tz": -60
    },
    "id": "P2Z80N5D2vSk",
    "outputId": "7980df2a-a711-4bd2-c9fc-c0a6cdb14cfc"
   },
   "outputs": [
    {
     "data": {
      "text/plain": [
       "array([[ 7,  8,  9],\n",
       "       [10, 11, 12],\n",
       "       [13, 14, 15]])"
      ]
     },
     "execution_count": 56,
     "metadata": {},
     "output_type": "execute_result"
    }
   ],
   "source": [
    "A = np.arange(7, 16).reshape(3, -1)\n",
    "A"
   ]
  },
  {
   "cell_type": "code",
   "execution_count": null,
   "metadata": {
    "colab": {
     "base_uri": "https://localhost:8080/"
    },
    "executionInfo": {
     "elapsed": 4,
     "status": "ok",
     "timestamp": 1711795647234,
     "user": {
      "displayName": "Piotr Skoczylas",
      "userId": "06783314259813611768"
     },
     "user_tz": -60
    },
    "id": "YWbBtod59HO7",
    "outputId": "f6217587-b398-4b97-c444-380d9e93fa4f"
   },
   "outputs": [
    {
     "data": {
      "text/plain": [
       "array([[0.23333333, 0.24242424, 0.25      ],\n",
       "       [0.33333333, 0.33333333, 0.33333333],\n",
       "       [0.43333333, 0.42424242, 0.41666667]])"
      ]
     },
     "execution_count": 68,
     "metadata": {},
     "output_type": "execute_result"
    }
   ],
   "source": [
    "A / A.sum(axis=0)"
   ]
  },
  {
   "cell_type": "code",
   "execution_count": null,
   "metadata": {
    "colab": {
     "base_uri": "https://localhost:8080/"
    },
    "executionInfo": {
     "elapsed": 2,
     "status": "ok",
     "timestamp": 1711795709194,
     "user": {
      "displayName": "Piotr Skoczylas",
      "userId": "06783314259813611768"
     },
     "user_tz": -60
    },
    "id": "jT51zsO0-Q3P",
    "outputId": "4c471dce-e4fb-4b63-89c4-d47725667e38"
   },
   "outputs": [
    {
     "data": {
      "text/plain": [
       "array([1., 1., 1.])"
      ]
     },
     "execution_count": 72,
     "metadata": {},
     "output_type": "execute_result"
    }
   ],
   "source": [
    "(A / A.sum(axis=0)).sum(axis=0)"
   ]
  },
  {
   "cell_type": "markdown",
   "metadata": {
    "id": "FtWGs8x4MlYn"
   },
   "source": [
    "### **<font color='#306998'>TASK </font><font color='#ffd33b'>1.19</font>**\n",
    "\n",
    "Write a function that accepts a positive natural number $p\\in\\mathbb{N}_1$ and two NumPy vectors as an input (both of the same shape). The function should return the Mikowski distance between those vectors, ie.:\n",
    "$$d_p(X, Y) = \\left(\\sum_{i=1}^n |x_i - y_i|^p\\right)^\\frac{1}{p},$$\n",
    "\n",
    "where $X=[x_1, x_2, ..., x_n]\\in\\mathbb{R}^n$ and $Y=[y_1, y_2, ..., y_n]\\in\\mathbb{R}^n.$\n",
    "\n",
    "*Hint: you can use the following assertions `assert a.size == b.size, \"Arrays must be of the same shape\"`, and `assert isinstance(input_array_1, np.ndarray)`.*"
   ]
  },
  {
   "cell_type": "code",
   "execution_count": null,
   "metadata": {
    "id": "YgupUCLu2vkv"
   },
   "outputs": [],
   "source": []
  },
  {
   "cell_type": "markdown",
   "metadata": {
    "id": "hjThx18Fc2Qi"
   },
   "source": [
    "### **<font color='#306998'>TASK </font><font color='#ffd33b'>1.20</font>**\n",
    "\n",
    "Determine the length of the following vectors using Euclidean norm:\n",
    "* $v_1=[0, 5]$\n",
    "* $v_2=[0, -3]$\n",
    "* $v_3=[7, 0]$\n",
    "* $v_4=[-\\pi, 0]$\n",
    "* $v_5=[3, -4]$\n",
    "* $v_6=[1, 7]$\n",
    "* $v_7=[5\\sqrt{3}, -3, 4]$\n",
    "* $v_8=[1, 2, 3, 4]$\n",
    "\n",
    "*Hint: using default parameters of `numpy.linalg.norm()` function will return Frobenius norm for matrices which is equivalent to Euclidean norm for vectors:*\n",
    "https://numpy.org/doc/stable/reference/generated/numpy.linalg.norm.html"
   ]
  },
  {
   "cell_type": "code",
   "execution_count": null,
   "metadata": {
    "colab": {
     "base_uri": "https://localhost:8080/"
    },
    "executionInfo": {
     "elapsed": 3,
     "status": "ok",
     "timestamp": 1711795795114,
     "user": {
      "displayName": "Piotr Skoczylas",
      "userId": "06783314259813611768"
     },
     "user_tz": -60
    },
    "id": "10NqtALe3WD3",
    "outputId": "b640772f-326b-4a42-aea6-2c8754bdfdbc"
   },
   "outputs": [
    {
     "data": {
      "text/plain": [
       "(array([0, 5]), 5.0)"
      ]
     },
     "execution_count": 74,
     "metadata": {},
     "output_type": "execute_result"
    }
   ],
   "source": [
    "v1 = np.array([0, 5])\n",
    "v1_len = np.linalg.norm(v1)\n",
    "\n",
    "v1, v1_len"
   ]
  },
  {
   "cell_type": "code",
   "execution_count": null,
   "metadata": {
    "id": "GuUgxzdO-v5Y"
   },
   "outputs": [],
   "source": []
  },
  {
   "cell_type": "markdown",
   "metadata": {
    "id": "vStqDJ4rnSKK"
   },
   "source": [
    "### **<font color='#306998'>TASK </font><font color='#ffd33b'>1.21</font>**\n",
    "\n",
    "For the following vectors `a=[3, -2]` and `b=[-2, -3]`, determine their scalar product and the angle between these vectors.\n",
    "\n",
    "*Correct answer $\\alpha = 90^\\circ$.*"
   ]
  },
  {
   "cell_type": "code",
   "execution_count": null,
   "metadata": {
    "colab": {
     "base_uri": "https://localhost:8080/"
    },
    "executionInfo": {
     "elapsed": 6,
     "status": "ok",
     "timestamp": 1711795910822,
     "user": {
      "displayName": "Piotr Skoczylas",
      "userId": "06783314259813611768"
     },
     "user_tz": -60
    },
    "id": "zNOBdivK3WrN",
    "outputId": "5331a9b7-559c-4819-f88b-dbaf90e84632"
   },
   "outputs": [
    {
     "data": {
      "text/plain": [
       "0"
      ]
     },
     "execution_count": 77,
     "metadata": {},
     "output_type": "execute_result"
    }
   ],
   "source": [
    "a = np.array([3, -2])\n",
    "b = np.array([-2, -3])\n",
    "\n",
    "np.dot(a, b)"
   ]
  },
  {
   "cell_type": "code",
   "execution_count": null,
   "metadata": {
    "colab": {
     "base_uri": "https://localhost:8080/"
    },
    "executionInfo": {
     "elapsed": 3,
     "status": "ok",
     "timestamp": 1711795929254,
     "user": {
      "displayName": "Piotr Skoczylas",
      "userId": "06783314259813611768"
     },
     "user_tz": -60
    },
    "id": "Hkvodmxm-67_",
    "outputId": "9e03e6d2-be12-43c1-b099-ce60e5c0202f"
   },
   "outputs": [
    {
     "data": {
      "text/plain": [
       "12.999999999999998"
      ]
     },
     "execution_count": 79,
     "metadata": {},
     "output_type": "execute_result"
    }
   ],
   "source": [
    "denominator = np.linalg.norm(a) * np.linalg.norm(b)\n",
    "denominator"
   ]
  },
  {
   "cell_type": "code",
   "execution_count": null,
   "metadata": {
    "colab": {
     "base_uri": "https://localhost:8080/"
    },
    "executionInfo": {
     "elapsed": 4,
     "status": "ok",
     "timestamp": 1711795933042,
     "user": {
      "displayName": "Piotr Skoczylas",
      "userId": "06783314259813611768"
     },
     "user_tz": -60
    },
    "id": "v9D5QRIG_MHM",
    "outputId": "215b5684-a267-49f8-ea58-187dab5ce2d3"
   },
   "outputs": [
    {
     "data": {
      "text/plain": [
       "0.0"
      ]
     },
     "execution_count": 81,
     "metadata": {},
     "output_type": "execute_result"
    }
   ],
   "source": [
    "cos_gamma = np.dot(a, b) / denominator\n",
    "cos_gamma"
   ]
  },
  {
   "cell_type": "code",
   "execution_count": null,
   "metadata": {
    "colab": {
     "base_uri": "https://localhost:8080/"
    },
    "executionInfo": {
     "elapsed": 2,
     "status": "ok",
     "timestamp": 1711795941740,
     "user": {
      "displayName": "Piotr Skoczylas",
      "userId": "06783314259813611768"
     },
     "user_tz": -60
    },
    "id": "dMjr5Nsn_QDx",
    "outputId": "0069fd70-edb0-4183-8b62-0b785ad62e9d"
   },
   "outputs": [
    {
     "data": {
      "text/plain": [
       "1.5707963267948966"
      ]
     },
     "execution_count": 82,
     "metadata": {},
     "output_type": "execute_result"
    }
   ],
   "source": [
    "gamma = np.arccos(cos_gamma)\n",
    "gamma  # radians, ~pi/2"
   ]
  },
  {
   "cell_type": "markdown",
   "metadata": {
    "id": "w9ia7byRnif-"
   },
   "source": [
    "### **<font color='#306998'>TASK </font><font color='#ffd33b'>1.22</font>**\n",
    "\n",
    "For the following vectors `a=[0, 3]` and `b=[2, 2]`, determine their scalar product and the angle between these vectors.\n",
    "\n",
    "*Correct answer $\\alpha = 45^\\circ$.*"
   ]
  },
  {
   "cell_type": "code",
   "execution_count": null,
   "metadata": {
    "id": "UavbwPXD3W3Z"
   },
   "outputs": [],
   "source": []
  },
  {
   "cell_type": "markdown",
   "metadata": {
    "id": "LcJuNR3smdft"
   },
   "source": [
    "### **<font color='#306998'>TASK </font><font color='#ffd33b'>1.23</font>**\n",
    "\n",
    "For the following vectors `a=[3, -2]` and `b=[1, 7]`, determine their scalar product and the angle between these vectors.\n",
    "\n",
    "*Correct answer $\\alpha ≈ 116^\\circ$.*"
   ]
  },
  {
   "cell_type": "code",
   "execution_count": null,
   "metadata": {
    "id": "asXRQxg_3XL6"
   },
   "outputs": [],
   "source": []
  },
  {
   "cell_type": "markdown",
   "metadata": {
    "id": "vIV-LzBHcz64"
   },
   "source": [
    "### **<font color='#306998'>TASK </font><font color='#ffd33b'>1.24</font>**\n",
    "\n",
    "Normalize each vector from Task 20."
   ]
  },
  {
   "cell_type": "code",
   "execution_count": null,
   "metadata": {
    "colab": {
     "base_uri": "https://localhost:8080/"
    },
    "executionInfo": {
     "elapsed": 2,
     "status": "ok",
     "timestamp": 1711795981094,
     "user": {
      "displayName": "Piotr Skoczylas",
      "userId": "06783314259813611768"
     },
     "user_tz": -60
    },
    "id": "-wmnUGrn3XrY",
    "outputId": "bd197290-926f-4474-9eb6-9e1d7f077676"
   },
   "outputs": [
    {
     "data": {
      "text/plain": [
       "array([0., 1.])"
      ]
     },
     "execution_count": 83,
     "metadata": {},
     "output_type": "execute_result"
    }
   ],
   "source": [
    "v1 / v1_len"
   ]
  },
  {
   "cell_type": "code",
   "execution_count": null,
   "metadata": {
    "id": "QH3xIKCC_cvz"
   },
   "outputs": [],
   "source": []
  },
  {
   "cell_type": "markdown",
   "metadata": {
    "id": "yb78m3gz5GAw"
   },
   "source": [
    "<img src=\"https://drive.google.com/uc?export=view&id=141XOz6N4nk8Ru1sAl7vOsAToCLrSFCAX\" alt=\"SDA logo\" width=\"150\" align='right'/>\n",
    "<br>\n",
    "\n",
    "## Appendix: random numbers generators\n",
    "\n",
    "1. Randomly generated number(s) from normal (Gauss) distribution.\n",
    "```python\n",
    "np.random.normal()\n",
    "np.random.normal(size=6)\n",
    "```\n",
    "1. Randomly selected numbers from the uniform system.\n",
    "```python\n",
    "np.random.uniform(size=6)\n",
    "```\n",
    "1. Randomly selected number from a specific range.\n",
    "```python\n",
    "np.random.randint(3, 30, size=6)\n",
    "```\n",
    "1. Randomly selected floating-point number\n",
    "```python\n",
    "np.random.random()\n",
    "```"
   ]
  },
  {
   "cell_type": "code",
   "execution_count": null,
   "metadata": {
    "id": "aLlEPC4-5GYQ"
   },
   "outputs": [],
   "source": []
  }
 ],
 "metadata": {
  "colab": {
   "provenance": []
  },
  "kernelspec": {
   "display_name": "Python 3 (ipykernel)",
   "language": "python",
   "name": "python3"
  },
  "language_info": {
   "codemirror_mode": {
    "name": "ipython",
    "version": 3
   },
   "file_extension": ".py",
   "mimetype": "text/x-python",
   "name": "python",
   "nbconvert_exporter": "python",
   "pygments_lexer": "ipython3",
   "version": "3.13.5"
  }
 },
 "nbformat": 4,
 "nbformat_minor": 4
}
